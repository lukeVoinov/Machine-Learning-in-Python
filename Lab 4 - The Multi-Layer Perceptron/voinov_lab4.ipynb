{
 "cells": [
  {
   "cell_type": "markdown",
   "id": "9ff1f2ff",
   "metadata": {},
   "source": [
    "# **Lab 3: Multi-Layer Perceptron**\n",
    "**Name(s):** Luke Voinov, Tiffany Nguyen\n",
    "\n",
    "We use the US Census dataset:\n",
    "\n",
    "https://www.kaggle.com/muonneutrino/us-census-demographic-data/data"
   ]
  },
  {
   "cell_type": "markdown",
   "id": "0850a0c4",
   "metadata": {},
   "source": [
    "##### **Classification Task:**\n",
    "\n",
    "The classification task you will be performing is to predict, **for each tract, what the child poverty rate will be**. You will need to convert this from regression to four levels of classification by quantizing the variable of interest."
   ]
  },
  {
   "cell_type": "markdown",
   "id": "7a9d9c9f",
   "metadata": {},
   "source": [
    "### **1. Load, Split, and Balance**\n",
    "\n",
    "1.1. Load the data into memory and save it to a pandas data frame. Do not normalize or one-hot encode any of the features until asked to do so later in the rubric."
   ]
  },
  {
   "cell_type": "markdown",
   "id": "d02279d6",
   "metadata": {},
   "source": [
    "1.2 Remove any observations that having missing data."
   ]
  },
  {
   "cell_type": "markdown",
   "id": "ee6078a2",
   "metadata": {},
   "source": [
    "1.3 Encode any string data as integers for now."
   ]
  },
  {
   "cell_type": "markdown",
   "id": "68e99417",
   "metadata": {},
   "source": [
    "1.4 You have the option of keeping the \"county\" variable or removing it. Be sure to discuss why you decided to keep/remove this variable. "
   ]
  },
  {
   "cell_type": "markdown",
   "id": "bba8b633",
   "metadata": {},
   "source": [
    "The next two requirements will need to be completed together as they might depend on one another. \n",
    "\n",
    "Note: You will need to one hot encode the target, but do not one hot encode the categorical data until instructed to do so in the lab.  \n",
    "\n",
    "1.5 Balance the dataset so that about the same number of instances are within each class. Choose a method for balancing the dataset and explain your reasoning for selecting this method. One option is to choose quantization thresholds for the \"ChildPoverty\" variable that equally divide the data into four classes. *Should balancing of the dataset be done for both the training and testing set? Explain.*"
   ]
  },
  {
   "cell_type": "markdown",
   "id": "9c4a77c5",
   "metadata": {},
   "source": [
    "1.6 Assume you are equally interested in the classification performance for each class in the dataset. Split the dataset into 80% for training and 20% for testing. There is no need to split the data multiple times for this lab."
   ]
  },
  {
   "cell_type": "markdown",
   "id": "75bc01b8",
   "metadata": {},
   "source": [
    "### **2. Pre-processing and Initial Modeling**"
   ]
  },
  {
   "cell_type": "markdown",
   "id": "16fa360f",
   "metadata": {},
   "source": [
    "2.1  You will be using a two layer perceptron from class for the next few parts of the rubric. There are several versions of the two layer perceptron covered in class, with example code. When selecting an example two layer network from class be sure that you use: (1) vectorized gradient computation, (2) mini-batching, (3) cross entropy loss, and (4) proper Glorot initialization, at a minimum. There is no need to use momentum or learning rate reduction (assuming you choose a sufficiently small learning rate). **It is recommended to use sigmoids throughout the network, but not required** "
   ]
  },
  {
   "cell_type": "markdown",
   "id": "b6854329",
   "metadata": {},
   "source": [
    "2.2 Use the example two-layer perceptron network from the class example and quantify performance using accuracy. Do not normalize or one-hot encode the feature data (not yet). Be sure that training converges by graphing the loss function versus the number of epochs. "
   ]
  },
  {
   "cell_type": "markdown",
   "id": "b5a32e37",
   "metadata": {},
   "source": [
    "2.3 Now normalize the continuous numeric feature data"
   ]
  },
  {
   "cell_type": "markdown",
   "id": "8a3624f3",
   "metadata": {},
   "source": [
    "2.4 One hot encode the categorical feature data. Use the example two-layer perceptron network from the class example and quantify performance using accuracy. Be sure that training converges by graphing the loss function versus the number of epochs.  "
   ]
  },
  {
   "cell_type": "markdown",
   "id": "bbbe2379",
   "metadata": {},
   "source": [
    "2.4 Compare the performance of the three models you just trained. Are there any meaningful differences in performance? Explain, in your own words, why these models have (or do not have) different performances."
   ]
  },
  {
   "cell_type": "markdown",
   "id": "b0de9357",
   "metadata": {},
   "source": [
    "*Use one-hot encoding and normalization on the dataset for the remainder of this lab assignment.*"
   ]
  },
  {
   "cell_type": "markdown",
   "id": "a08b4eff",
   "metadata": {},
   "source": [
    "### **3. Modeling**\n"
   ]
  },
  {
   "cell_type": "markdown",
   "id": "021f78ef",
   "metadata": {},
   "source": [
    "3.1 Add support for a third layer in the multi-layer perceptron. Add support for saving (and plotting after training is completed) the average magnitude of the gradient for each layer, for each epoch (like we did in the flipped module for back propagation). For magnitude calculation, you are free to use either the average absolute values or the L1/L2 norm.\n",
    "- Quantify the performance of the model and graph the magnitudes for each layer versus the number of epochs."
   ]
  },
  {
   "cell_type": "markdown",
   "id": "2ae7841f",
   "metadata": {},
   "source": [
    "3.2 Repeat the previous step, adding support for a fourth layer."
   ]
  },
  {
   "cell_type": "markdown",
   "id": "0245cdd8",
   "metadata": {},
   "source": [
    "3.3 Repeat the previous step, adding support for a fifth layer. "
   ]
  },
  {
   "cell_type": "markdown",
   "id": "4d0710a9",
   "metadata": {},
   "source": [
    "3.4 Implement an adaptive learning technique that was discussed in lecture and use it on the five layer network (choose either RMSProp or AdaDelta). Discuss which adaptive method you chose. Compare the performance of your five layer model with and without the adaptive learning strategy. **Do not use AdaM for the adaptive learning technique as it is part of the exceptional work.**"
   ]
  },
  {
   "cell_type": "markdown",
   "id": "8ba3bd8f",
   "metadata": {},
   "source": [
    "### **4. Exceptional Work**\n",
    "\n",
    "Implement adaptive momentum (AdaM) in the five layer neural network and quantify the performance compared to other methods.  "
   ]
  }
 ],
 "metadata": {
  "language_info": {
   "name": "python"
  }
 },
 "nbformat": 4,
 "nbformat_minor": 5
}
