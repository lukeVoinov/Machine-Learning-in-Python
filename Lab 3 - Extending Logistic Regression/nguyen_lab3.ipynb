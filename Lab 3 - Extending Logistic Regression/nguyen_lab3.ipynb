{
 "cells": [
  {
   "cell_type": "markdown",
   "metadata": {},
   "source": [
    "## **1. Business Understanding**\n",
    "\n",
    "For this report, we will define the classification problem as predicting whether a driver will finish on the podium (top 3) in a given race based on pre-race and qualifying data from the Formula 1 World Championship (1950-2024) dataset from Kaggle. A value of 1 represents a podium finish (1st, 2nd, or 3rd place), while a value of 0 represents a non-podium finish (all other positions, including retirements or disqualifications). Features that may be used in the model include grid position, constructor (team), track characteristics, driver performance history, and season information.\n",
    "\n",
    "The business case for this type of model is centered on forecasting and strategic decision-making. Racing teams could use such a model to estimate the likelihood of a podium finish before the race to guide strategy, such as pit stop planning or driver expectations. Broadcasters and analysts could use the predicted probabilities to enhance pre-race coverage with data-driven insights, while sponsors and advertisers could use these forecasters to assess expected driver visibiliy and exposure.\n",
    "\n",
    "This type of model would be used primarily for offline analysis or pre-race forecasting, not for rela-time decision-making during a race. Because podium finishes are rarely rare events, the model does not need to achieve perfect accuracy to be valuable. Instead, its usefulness lies in performing better than a naive baseline (predicting \"no podium\"), providing some discriminative power to identify which drivers are more likely to place highly. Even a moderate level of accuracy would provide helpful insights for teams, broadcasters, and sponsors."
   ]
  },
  {
   "cell_type": "code",
   "execution_count": 3,
   "metadata": {},
   "outputs": [],
   "source": [
    "# Import any dependencies\n",
    "\n",
    "import pandas as pd\n",
    "from sklearn.model_selection import train_test_split\n",
    "import matplotlib.pyplot as plt\n",
    "import seaborn as sns"
   ]
  },
  {
   "cell_type": "markdown",
   "metadata": {},
   "source": [
    "### **1.2 Pre-processing**\n",
    "\n",
    "- raceId: unique identifier for each race (categorical), one-hot encoded integer (ID variable)\n",
    "- driverId: unique identifier for each driver (categorical), one-hot encoded integer (driver identity)\n",
    "- constructorId: unique identifier for each constructor/team (categorical), one-hot encoded integer (team identity)\n",
    "- grid: driver's starting position on the grid (ex, 1 = pole/1st place); numerical; integer, scaled\n",
    "- year: year of the race (numerical); integer, scaled\n",
    "- round: round number in the racing season (numerical); integer, scaled\n",
    "- positionOrder: final finishing position of the driver (numerical); integer (used only to create target)\n",
    "- podium (target): binary target including podium finish (1 = podium, 0 = not podium); categorical; binary integer/boolean"
   ]
  },
  {
   "cell_type": "markdown",
   "metadata": {},
   "source": [
    "Below, we have all the CSVs loaded and we had chosen our variables from the four (results, races, drivers, and constructors). We did not consider columns such as *milliseconds*, *fastestLap*, and *status* because they depended on in-race events. Any rows that were missing *positionOrder* were dropped as these were essential for defining the target variable and key features.\n",
    "\n",
    "The target variable for this task is **podium**, which indicates whether or not a driver finishes in the top 3 for a given race.\n",
    "- ```podium = 1```: driver finished in position 1, 2, or 3\n",
    "- ```podium = 0```: driver finished in any other positions, including DNFs (did not finish)\n",
    "\n",
    "This variable is derived from the ```positionOrder``` column in the Formula 1 World Championship (1950-2024) dataset."
   ]
  },
  {
   "cell_type": "code",
   "execution_count": 4,
   "metadata": {},
   "outputs": [],
   "source": [
    "# Adapted from Tiffany Nguyen's Lab 1 submission for CS 5324.\n",
    "\n",
    "results = pd.read_csv(\"/Users/tiffany/Desktop/CS 5324/CS 5324 Datasets/results.csv\")\n",
    "races = pd.read_csv(\"/Users/tiffany/Desktop/CS 5324/CS 5324 Datasets/races.csv\")\n",
    "drivers = pd.read_csv(\"/Users/tiffany/Desktop/CS 5324/CS 5324 Datasets/drivers.csv\")\n",
    "constructors = pd.read_csv(\"/Users/tiffany/Desktop/CS 5324/CS 5324 Datasets/constructors.csv\")\n",
    "\n",
    "# Create full driver name column in drivers dataset\n",
    "drivers['driverName'] = drivers['forename'] + ' ' + drivers['surname']\n",
    "\n",
    "# Start with results\n",
    "merged = results.copy()\n",
    "\n",
    "# Add driver names\n",
    "merged = merged.merge(drivers[['driverId', 'driverName']], on='driverId', how='left')\n",
    "merged = merged.drop(columns=['driverId'])\n",
    "\n",
    "# Add race names (for readability)\n",
    "merged = merged.merge(races[['raceId', 'name', 'year', 'round']], on='raceId', how='left')\n",
    "merged = merged.drop(columns=['raceId'])\n",
    "merged = merged.rename(columns={'name': 'raceName'})\n",
    "\n",
    "# Add constructor names (team)\n",
    "merged = merged.merge(constructors[['constructorId', 'name']], on='constructorId', how='left')\n",
    "merged = merged.drop(columns=['constructorId'])\n",
    "merged = merged.rename(columns={'name': 'constructorName'})\n",
    "\n",
    "# Create the Podium Target Variable\n",
    "merged = merged.dropna(subset=['positionOrder', 'grid'])  # drop rows missing key fields\n",
    "merged['podium'] = merged['positionOrder'].apply(lambda x: 1 if x <= 3 else 0)"
   ]
  },
  {
   "cell_type": "markdown",
   "metadata": {},
   "source": [
    "To make reading the CSV easier for us to work with, we'll change the ```driverId``` and match it with their corresponding name, the ```raceId``` to the corresponding name, and the ```constructorId``` to their corresponding ```constructorName```. It is easy to do this since they're all in the CSVs we're working with for this report."
   ]
  },
  {
   "cell_type": "code",
   "execution_count": 5,
   "metadata": {},
   "outputs": [
    {
     "name": "stdout",
     "output_type": "stream",
     "text": [
      "Unique classes in the target variable: [3 2 1 0]\n",
      "Shape of data: (26759, 8)\n",
      "                raceName         driverName constructorName  grid  \\\n",
      "0  Australian Grand Prix     Lewis Hamilton         McLaren     1   \n",
      "1  Australian Grand Prix      Nick Heidfeld      BMW Sauber     5   \n",
      "2  Australian Grand Prix       Nico Rosberg        Williams     7   \n",
      "3  Australian Grand Prix    Fernando Alonso         Renault    11   \n",
      "4  Australian Grand Prix  Heikki Kovalainen         McLaren     3   \n",
      "\n",
      "   positionOrder  year  round  podium  \n",
      "0              1  2008      1       3  \n",
      "1              2  2008      1       2  \n",
      "2              3  2008      1       1  \n",
      "3              4  2008      1       0  \n",
      "4              5  2008      1       0  \n",
      "Cleaned data saved to f1_cleaned.csv\n"
     ]
    }
   ],
   "source": [
    "# These columns are available BEFORE the race\n",
    "df = merged[[\n",
    "    \"raceName\",           # unique race\n",
    "    \"driverName\",         # driver identity\n",
    "    \"constructorName\",    # team identity\n",
    "    \"grid\",             # starting position\n",
    "    \"positionOrder\",    # finishing position\n",
    "    \"year\",             # year\n",
    "    \"round\"             # round in season\n",
    "]]\n",
    "\n",
    "# Remove rows with missing or invalid grid of position values\n",
    "df = df.dropna(subset=[\"grid\", \"positionOrder\"])\n",
    "\n",
    "# Create multi-class target: 3 for 1st place, 2 for 2nd, 1 for 3rd, 0 otherwise\n",
    "df[\"podium\"] = df[\"positionOrder\"].apply(\n",
    "    lambda x: 3 if x == 1 else (2 if x == 2 else (1 if x == 3 else 0))\n",
    ")\n",
    "\n",
    "# Check the unique classes in the target variable\n",
    "print(\"Unique classes in the target variable:\", df[\"podium\"].unique())\n",
    "\n",
    "print(\"Shape of data:\", df.shape)\n",
    "print(df.head())\n",
    "\n",
    "# Save cleaned data to CSV\n",
    "df.to_csv(\"/Users/tiffany/Desktop/CS 5324/CS 5324 Datasets/f1_cleaned.csv\", index=False)\n",
    "print(\"Cleaned data saved to f1_cleaned.csv\")"
   ]
  },
  {
   "cell_type": "markdown",
   "metadata": {},
   "source": [
    "Let's double check if there are any missing values per column."
   ]
  },
  {
   "cell_type": "code",
   "execution_count": 11,
   "metadata": {},
   "outputs": [
    {
     "name": "stdout",
     "output_type": "stream",
     "text": [
      "raceName           0\n",
      "driverName         0\n",
      "constructorName    0\n",
      "grid               0\n",
      "positionOrder      0\n",
      "year               0\n",
      "round              0\n",
      "podium             0\n",
      "dtype: int64\n",
      "False\n"
     ]
    }
   ],
   "source": [
    "# Check for missing values in the entire dataset\n",
    "print(df.isnull().sum())  # Shows the count of missing values per column\n",
    "\n",
    "# Alternatively, check if there are any missing values at all\n",
    "print(df.isnull().values.any())  # Returns True if there are missing values"
   ]
  },
  {
   "cell_type": "markdown",
   "metadata": {},
   "source": [
    "Since there are no more missing data to deal with, we will check what the summary of the dataframe gives us in terms of the data types and number of non-null values."
   ]
  },
  {
   "cell_type": "code",
   "execution_count": 7,
   "metadata": {},
   "outputs": [
    {
     "name": "stdout",
     "output_type": "stream",
     "text": [
      "<class 'pandas.core.frame.DataFrame'>\n",
      "RangeIndex: 26759 entries, 0 to 26758\n",
      "Data columns (total 8 columns):\n",
      " #   Column           Non-Null Count  Dtype \n",
      "---  ------           --------------  ----- \n",
      " 0   raceName         26759 non-null  object\n",
      " 1   driverName       26759 non-null  object\n",
      " 2   constructorName  26759 non-null  object\n",
      " 3   grid             26759 non-null  int64 \n",
      " 4   positionOrder    26759 non-null  int64 \n",
      " 5   year             26759 non-null  int64 \n",
      " 6   round            26759 non-null  int64 \n",
      " 7   podium           26759 non-null  int64 \n",
      "dtypes: int64(5), object(3)\n",
      "memory usage: 1.6+ MB\n"
     ]
    }
   ],
   "source": [
    "df.info()"
   ]
  },
  {
   "cell_type": "code",
   "execution_count": 8,
   "metadata": {},
   "outputs": [
    {
     "data": {
      "text/html": [
       "<div>\n",
       "<style scoped>\n",
       "    .dataframe tbody tr th:only-of-type {\n",
       "        vertical-align: middle;\n",
       "    }\n",
       "\n",
       "    .dataframe tbody tr th {\n",
       "        vertical-align: top;\n",
       "    }\n",
       "\n",
       "    .dataframe thead th {\n",
       "        text-align: right;\n",
       "    }\n",
       "</style>\n",
       "<table border=\"1\" class=\"dataframe\">\n",
       "  <thead>\n",
       "    <tr style=\"text-align: right;\">\n",
       "      <th></th>\n",
       "      <th>raceName</th>\n",
       "      <th>driverName</th>\n",
       "      <th>constructorName</th>\n",
       "      <th>grid</th>\n",
       "      <th>positionOrder</th>\n",
       "      <th>year</th>\n",
       "      <th>round</th>\n",
       "      <th>podium</th>\n",
       "    </tr>\n",
       "  </thead>\n",
       "  <tbody>\n",
       "    <tr>\n",
       "      <th>0</th>\n",
       "      <td>Australian Grand Prix</td>\n",
       "      <td>Lewis Hamilton</td>\n",
       "      <td>McLaren</td>\n",
       "      <td>1</td>\n",
       "      <td>1</td>\n",
       "      <td>2008</td>\n",
       "      <td>1</td>\n",
       "      <td>3</td>\n",
       "    </tr>\n",
       "    <tr>\n",
       "      <th>1</th>\n",
       "      <td>Australian Grand Prix</td>\n",
       "      <td>Nick Heidfeld</td>\n",
       "      <td>BMW Sauber</td>\n",
       "      <td>5</td>\n",
       "      <td>2</td>\n",
       "      <td>2008</td>\n",
       "      <td>1</td>\n",
       "      <td>2</td>\n",
       "    </tr>\n",
       "    <tr>\n",
       "      <th>2</th>\n",
       "      <td>Australian Grand Prix</td>\n",
       "      <td>Nico Rosberg</td>\n",
       "      <td>Williams</td>\n",
       "      <td>7</td>\n",
       "      <td>3</td>\n",
       "      <td>2008</td>\n",
       "      <td>1</td>\n",
       "      <td>1</td>\n",
       "    </tr>\n",
       "    <tr>\n",
       "      <th>3</th>\n",
       "      <td>Australian Grand Prix</td>\n",
       "      <td>Fernando Alonso</td>\n",
       "      <td>Renault</td>\n",
       "      <td>11</td>\n",
       "      <td>4</td>\n",
       "      <td>2008</td>\n",
       "      <td>1</td>\n",
       "      <td>0</td>\n",
       "    </tr>\n",
       "    <tr>\n",
       "      <th>4</th>\n",
       "      <td>Australian Grand Prix</td>\n",
       "      <td>Heikki Kovalainen</td>\n",
       "      <td>McLaren</td>\n",
       "      <td>3</td>\n",
       "      <td>5</td>\n",
       "      <td>2008</td>\n",
       "      <td>1</td>\n",
       "      <td>0</td>\n",
       "    </tr>\n",
       "    <tr>\n",
       "      <th>5</th>\n",
       "      <td>Australian Grand Prix</td>\n",
       "      <td>Kazuki Nakajima</td>\n",
       "      <td>Williams</td>\n",
       "      <td>13</td>\n",
       "      <td>6</td>\n",
       "      <td>2008</td>\n",
       "      <td>1</td>\n",
       "      <td>0</td>\n",
       "    </tr>\n",
       "    <tr>\n",
       "      <th>6</th>\n",
       "      <td>Australian Grand Prix</td>\n",
       "      <td>Sébastien Bourdais</td>\n",
       "      <td>Toro Rosso</td>\n",
       "      <td>17</td>\n",
       "      <td>7</td>\n",
       "      <td>2008</td>\n",
       "      <td>1</td>\n",
       "      <td>0</td>\n",
       "    </tr>\n",
       "    <tr>\n",
       "      <th>7</th>\n",
       "      <td>Australian Grand Prix</td>\n",
       "      <td>Kimi Räikkönen</td>\n",
       "      <td>Ferrari</td>\n",
       "      <td>15</td>\n",
       "      <td>8</td>\n",
       "      <td>2008</td>\n",
       "      <td>1</td>\n",
       "      <td>0</td>\n",
       "    </tr>\n",
       "    <tr>\n",
       "      <th>8</th>\n",
       "      <td>Australian Grand Prix</td>\n",
       "      <td>Robert Kubica</td>\n",
       "      <td>BMW Sauber</td>\n",
       "      <td>2</td>\n",
       "      <td>9</td>\n",
       "      <td>2008</td>\n",
       "      <td>1</td>\n",
       "      <td>0</td>\n",
       "    </tr>\n",
       "    <tr>\n",
       "      <th>9</th>\n",
       "      <td>Australian Grand Prix</td>\n",
       "      <td>Timo Glock</td>\n",
       "      <td>Toyota</td>\n",
       "      <td>18</td>\n",
       "      <td>10</td>\n",
       "      <td>2008</td>\n",
       "      <td>1</td>\n",
       "      <td>0</td>\n",
       "    </tr>\n",
       "  </tbody>\n",
       "</table>\n",
       "</div>"
      ],
      "text/plain": [
       "                raceName          driverName constructorName  grid  \\\n",
       "0  Australian Grand Prix      Lewis Hamilton         McLaren     1   \n",
       "1  Australian Grand Prix       Nick Heidfeld      BMW Sauber     5   \n",
       "2  Australian Grand Prix        Nico Rosberg        Williams     7   \n",
       "3  Australian Grand Prix     Fernando Alonso         Renault    11   \n",
       "4  Australian Grand Prix   Heikki Kovalainen         McLaren     3   \n",
       "5  Australian Grand Prix     Kazuki Nakajima        Williams    13   \n",
       "6  Australian Grand Prix  Sébastien Bourdais      Toro Rosso    17   \n",
       "7  Australian Grand Prix      Kimi Räikkönen         Ferrari    15   \n",
       "8  Australian Grand Prix       Robert Kubica      BMW Sauber     2   \n",
       "9  Australian Grand Prix          Timo Glock          Toyota    18   \n",
       "\n",
       "   positionOrder  year  round  podium  \n",
       "0              1  2008      1       3  \n",
       "1              2  2008      1       2  \n",
       "2              3  2008      1       1  \n",
       "3              4  2008      1       0  \n",
       "4              5  2008      1       0  \n",
       "5              6  2008      1       0  \n",
       "6              7  2008      1       0  \n",
       "7              8  2008      1       0  \n",
       "8              9  2008      1       0  \n",
       "9             10  2008      1       0  "
      ]
     },
     "execution_count": 8,
     "metadata": {},
     "output_type": "execute_result"
    }
   ],
   "source": [
    "df.head(10)"
   ]
  },
  {
   "cell_type": "markdown",
   "metadata": {},
   "source": [
    "### **1.3 Splitting 80/20**\n",
    "\n",
    "Now that the data is easier to read for us (Luke and Tiffany), we can take this data and divide it into training and testing data using an 80% training and 20% testing split."
   ]
  },
  {
   "cell_type": "code",
   "execution_count": 12,
   "metadata": {},
   "outputs": [
    {
     "name": "stdout",
     "output_type": "stream",
     "text": [
      "Training set shape: (21407, 1126)\n",
      "Test set shape: (5352, 1126)\n"
     ]
    }
   ],
   "source": [
    "# Load the cleaned dataset\n",
    "df = pd.read_csv(\"/Users/tiffany/Desktop/CS 5324/CS 5324 Datasets/f1_cleaned.csv\")\n",
    "\n",
    "# Features and target variable\n",
    "X = df.drop(columns=[\"podium\", \"positionOrder\"])\n",
    "y = df[\"podium\"]\n",
    "\n",
    "# For now, we'll encode categorical variables using one-hot encoding\n",
    "X = pd.get_dummies(X, columns=[\"raceName\", \"driverName\", \"constructorName\"], drop_first=True)\n",
    "\n",
    "# Train-test split with stratification (80% train, 20% split)\n",
    "X_train, X_test, y_train, y_test = train_test_split(X, y, test_size=0.2, random_state=42, stratify=df[\"podium\"]) # stratify to maintain class distribution \n",
    "\n",
    "print(\"Training set shape:\", X_train.shape)\n",
    "print(\"Test set shape:\", X_test.shape)"
   ]
  },
  {
   "cell_type": "code",
   "execution_count": 13,
   "metadata": {},
   "outputs": [
    {
     "name": "stdout",
     "output_type": "stream",
     "text": [
      "One-hot encoded columns: ['raceName_Abu Dhabi Grand Prix', 'raceName_Argentine Grand Prix', 'raceName_Australian Grand Prix', 'raceName_Austrian Grand Prix', 'raceName_Azerbaijan Grand Prix', 'raceName_Bahrain Grand Prix', 'raceName_Belgian Grand Prix', 'raceName_Brazilian Grand Prix', 'raceName_British Grand Prix', 'raceName_Caesars Palace Grand Prix', 'raceName_Canadian Grand Prix', 'raceName_Chinese Grand Prix', 'raceName_Dallas Grand Prix', 'raceName_Detroit Grand Prix', 'raceName_Dutch Grand Prix', 'raceName_Eifel Grand Prix', 'raceName_Emilia Romagna Grand Prix', 'raceName_European Grand Prix', 'raceName_French Grand Prix', 'raceName_German Grand Prix', 'raceName_Hungarian Grand Prix', 'raceName_Indian Grand Prix', 'raceName_Indianapolis 500', 'raceName_Italian Grand Prix', 'raceName_Japanese Grand Prix', 'raceName_Korean Grand Prix', 'raceName_Las Vegas Grand Prix', 'raceName_Luxembourg Grand Prix', 'raceName_Malaysian Grand Prix', 'raceName_Mexican Grand Prix', 'raceName_Mexico City Grand Prix', 'raceName_Miami Grand Prix', 'raceName_Monaco Grand Prix', 'raceName_Moroccan Grand Prix', 'raceName_Pacific Grand Prix', 'raceName_Pescara Grand Prix', 'raceName_Portuguese Grand Prix', 'raceName_Qatar Grand Prix', 'raceName_Russian Grand Prix', 'raceName_Sakhir Grand Prix', 'raceName_San Marino Grand Prix', 'raceName_Saudi Arabian Grand Prix', 'raceName_Singapore Grand Prix', 'raceName_South African Grand Prix', 'raceName_Spanish Grand Prix', 'raceName_Styrian Grand Prix', 'raceName_Swedish Grand Prix', 'raceName_Swiss Grand Prix', 'raceName_São Paulo Grand Prix', 'raceName_Turkish Grand Prix', 'raceName_Tuscan Grand Prix', 'raceName_United States Grand Prix', 'raceName_United States Grand Prix West', 'driverName_Adolfo Cruz', 'driverName_Adrian Sutil', 'driverName_Adrián Campos', 'driverName_Aguri Suzuki', 'driverName_Al Herman', 'driverName_Al Keller', 'driverName_Al Pease', 'driverName_Alain Prost', 'driverName_Alain de Changy', 'driverName_Alan Brown', 'driverName_Alan Jones', 'driverName_Alan Rees', 'driverName_Alan Rollinson', 'driverName_Alan Stacey', 'driverName_Albert Scherrer', 'driverName_Alberto Ascari', 'driverName_Alberto Colombo', 'driverName_Alberto Crespo', 'driverName_Alberto Rodriguez Larreta', 'driverName_Alberto Uria', 'driverName_Aldo Gordini', 'driverName_Alessandro Nannini', 'driverName_Alessandro Pesenti-Rossi', 'driverName_Alessandro Zanardi', 'driverName_Alessandro de Tomaso', 'driverName_Alex Blignaut', 'driverName_Alex Caffi', 'driverName_Alex Ribeiro', 'driverName_Alex Soler-Roig', 'driverName_Alex Yoong', 'driverName_Alexander Albon', 'driverName_Alexander Rossi', 'driverName_Alexander Wurz', 'driverName_Alfonso Thiele', 'driverName_Alfonso de Portago', 'driverName_Alfredo Pián', 'driverName_Allan McNish', 'driverName_Allen Berg', 'driverName_Andrea Chiesa', 'driverName_Andrea Montermini', 'driverName_Andrea de Adamich', 'driverName_Andrea de Cesaris', 'driverName_André Guelfi', 'driverName_André Lotterer', 'driverName_André Milhoux', 'driverName_André Pilette', 'driverName_André Simon', 'driverName_André Testut', 'driverName_Andy Linden', 'driverName_Andy Sutcliffe', 'driverName_Anthony Davidson', 'driverName_Anthony Foyt', 'driverName_Antonio Creus', 'driverName_Antonio Giovinazzi', 'driverName_Antônio Pizzonia', 'driverName_Archie Scott Brown', 'driverName_Art Bisch', 'driverName_Art Cross', 'driverName_Arthur Legat', 'driverName_Arthur Owen', 'driverName_Arturo Merzario', 'driverName_Ayrton Senna', 'driverName_Azdrubal Fontes', 'driverName_Basil van Rooyen', 'driverName_Bayliss Levrett', 'driverName_Ben Pon', 'driverName_Beppe Gabbiani', 'driverName_Bernard Collomb', 'driverName_Bernard de Dryver', 'driverName_Bernd Schneider', 'driverName_Bernie Ecclestone', 'driverName_Bertil Roos', 'driverName_Bertrand Gachot', 'driverName_Bill Aston', 'driverName_Bill Brack', 'driverName_Bill Cantrell', 'driverName_Bill Cheesbourg', 'driverName_Bill Holland', 'driverName_Bill Homeier', 'driverName_Bill Mackey', 'driverName_Bill Moss', 'driverName_Bill Schindler', 'driverName_Bill Vukovich', 'driverName_Bill Whitehouse', 'driverName_Billy Garrett', 'driverName_Bob Anderson', 'driverName_Bob Bondurant', 'driverName_Bob Christie', 'driverName_Bob Drake', 'driverName_Bob Evans', 'driverName_Bob Gerard', 'driverName_Bob Said', 'driverName_Bob Scott', 'driverName_Bob Sweikert', 'driverName_Bob Veith', 'driverName_Bobby Ball', 'driverName_Bobby Grim', 'driverName_Bobby Rahal', 'driverName_Bobby Unser', 'driverName_Boy Lunger', 'driverName_Brausch Niemann', 'driverName_Brendon Hartley', 'driverName_Brett Lunger', 'driverName_Brian Gubby', 'driverName_Brian Hart', 'driverName_Brian Henton', 'driverName_Brian McGuire', 'driverName_Brian Naylor', 'driverName_Brian Redman', 'driverName_Brian Shawe Taylor', 'driverName_Bruce Halford', 'driverName_Bruce Johnstone', 'driverName_Bruce Kessler', 'driverName_Bruce McLaren', 'driverName_Bruno Giacomelli', 'driverName_Bruno Senna', 'driverName_Bud Tingelstad', 'driverName_Cal Niday', 'driverName_Carel Godin de Beaufort', 'driverName_Carl Forberg', 'driverName_Carl Scarborough', 'driverName_Carlo Abate', 'driverName_Carlo Facetti', 'driverName_Carlo Franchi', 'driverName_Carlos Menditeguy', 'driverName_Carlos Pace', 'driverName_Carlos Reutemann', 'driverName_Carlos Sainz', 'driverName_Carroll Shelby', 'driverName_Cecil Green', 'driverName_Cesare Perdisa', 'driverName_Charles Leclerc', 'driverName_Charles Pic', 'driverName_Charles Pozzi', 'driverName_Charles de Tornaco', 'driverName_Chet Miller', 'driverName_Chico Landi', 'driverName_Chico Serra', 'driverName_Chris Amon', 'driverName_Chris Bristow', 'driverName_Chris Craft', 'driverName_Chris Irwin', 'driverName_Chris Lawrence', 'driverName_Christian Danner', 'driverName_Christian Fittipaldi', 'driverName_Christian Goethals', 'driverName_Christian Klien', 'driverName_Christijan Albers', 'driverName_Chuck Arnold', 'driverName_Chuck Daigh', 'driverName_Chuck Stevenson', 'driverName_Chuck Weyant', 'driverName_Claudio Langes', 'driverName_Clay Regazzoni', 'driverName_Clemar Bucci', 'driverName_Clemente Biondetti', 'driverName_Cliff Allison', 'driverName_Cliff Griffith', 'driverName_Clive Puzey', 'driverName_Colin Chapman', 'driverName_Colin Davis', 'driverName_Conny Andersson', 'driverName_Consalvo Sanesi', 'driverName_Corrado Fabi', 'driverName_Cristiano da Matta', 'driverName_Cuth Harrison', 'driverName_Damien Magee', 'driverName_Damon Hill', 'driverName_Dan Gurney', 'driverName_Daniel Ricciardo', 'driverName_Daniil Kvyat', 'driverName_Danny Kladis', 'driverName_Danny Ongais', 'driverName_Danny Sullivan', 'driverName_Dave Charlton', 'driverName_Dave Kennedy', 'driverName_Dave Morgan', 'driverName_David Brabham', 'driverName_David Clapham', 'driverName_David Coulthard', 'driverName_David Hampshire', 'driverName_David Hobbs', 'driverName_David Murray', 'driverName_David Piper', 'driverName_David Prophet', 'driverName_David Purley', 'driverName_David Walker', 'driverName_Dempsey Wilson', 'driverName_Dennis Poore', 'driverName_Dennis Taylor', 'driverName_Denny Hulme', 'driverName_Derek Bell', 'driverName_Derek Daly', 'driverName_Derek Warwick', 'driverName_Desiré Wilson', 'driverName_Desmond Titterington', 'driverName_Dick Gibson', 'driverName_Dick Rathmann', 'driverName_Didier Pironi', 'driverName_Dieter Quester', 'driverName_Divina Galica', 'driverName_Domenico Schiattarella', 'driverName_Don Beauman', 'driverName_Don Branson', 'driverName_Don Edmunds', 'driverName_Don Freeland', 'driverName_Dorino Serafini', 'driverName_Doug Serrurier', 'driverName_Dries van der Lof', 'driverName_Duane Carter', 'driverName_Duke Dinsmore', 'driverName_Duke Nalon', 'driverName_Duncan Hamilton', 'driverName_Ed Elisian', 'driverName_Eddie Cheever', 'driverName_Eddie Irvine', 'driverName_Eddie Johnson', 'driverName_Eddie Keizan', 'driverName_Eddie Russo', 'driverName_Eddie Sachs', 'driverName_Edgar Barth', 'driverName_Eitel Cantoni', 'driverName_Elio de Angelis', 'driverName_Eliseo Salazar', 'driverName_Elmer George', 'driverName_Emanuele Naspetti', 'driverName_Emanuele Pirro', 'driverName_Emerson Fittipaldi', 'driverName_Emilio Zapico', 'driverName_Emilio de Villota', 'driverName_Enrico Bertaggia', 'driverName_Enrique Bernoldi', 'driverName_Eppie Wietzes', 'driverName_Eric Brandon', 'driverName_Eric Thompson', 'driverName_Eric van de Poele', 'driverName_Ernesto Brambilla', 'driverName_Ernesto Prinoth', 'driverName_Ernie McCoy', 'driverName_Ernie Pieterse', 'driverName_Ernie de Vos', 'driverName_Ernst Klodwig', 'driverName_Ernst Loof', 'driverName_Erwin Bauer', 'driverName_Esteban Gutiérrez', 'driverName_Esteban Ocon', 'driverName_Esteban Tuero', 'driverName_Ettore Chimeri', 'driverName_Eugenio Castellotti', 'driverName_Eugène Chaboud', 'driverName_Eugène Martin', 'driverName_Fabrizio Barbazza', 'driverName_Felice Bonetto', 'driverName_Felipe Massa', 'driverName_Felipe Nasr', 'driverName_Fernando Alonso', 'driverName_Franck Lagorce', 'driverName_Franck Montagny', 'driverName_Franco Colapinto', 'driverName_Franco Comotti', 'driverName_Franco Forini', 'driverName_Franco Rol', 'driverName_Frank Armi', 'driverName_Frank Dochnal', 'driverName_Frank Gardner', 'driverName_François Cevert', 'driverName_François Hesnault', 'driverName_François Mazet', 'driverName_François Migault', 'driverName_François Picard', 'driverName_Fred Agabashian', 'driverName_Fred Gamble', 'driverName_Fred Wacker', 'driverName_Fritz Riess', \"driverName_Fritz d'Orey\", 'driverName_Gabriele Tarquini', 'driverName_Gaetano Starrabba', 'driverName_Gary Brabham', 'driverName_Gary Hocking', 'driverName_Gastón Mazzacane', 'driverName_Gene Force', 'driverName_Gene Hartley', 'driverName_Geoff Crossley', 'driverName_Geoff Duke', 'driverName_Geoff Lees', 'driverName_George Abecassis', 'driverName_George Amick', 'driverName_George Connor', 'driverName_George Constantine', 'driverName_George Eaton', 'driverName_George Follmer', 'driverName_George Fonder', 'driverName_George Russell', 'driverName_Georges Berger', 'driverName_Georges Grignard', 'driverName_Gerhard Berger', 'driverName_Gerhard Mitter', 'driverName_Gerino Gerini', 'driverName_Gerry Ashmore', 'driverName_Giacomo Russo', 'driverName_Giancarlo Baghetti', 'driverName_Giancarlo Fisichella', 'driverName_Gianfranco Brancatelli', 'driverName_Gianmaria Bruni', 'driverName_Gianni Morbidelli', 'driverName_Giedo van der Garde', 'driverName_Gijs van Lennep', 'driverName_Gilles Villeneuve', 'driverName_Gino Bianco', 'driverName_Gino Munaron', 'driverName_Giorgio Bassi', 'driverName_Giorgio Francia', 'driverName_Giorgio Pantano', 'driverName_Giorgio Scarlatti', 'driverName_Giovanna Amati', 'driverName_Giovanni Lavaggi', 'driverName_Giovanni de Riu', 'driverName_Giulio Cabianca', 'driverName_Graham Hill', 'driverName_Graham McRae', 'driverName_Graham Whitehead', 'driverName_Gregor Foitek', 'driverName_Guanyu Zhou', 'driverName_Gunnar Nilsson', 'driverName_Gus Hutchison', 'driverName_Guy Edwards', 'driverName_Guy Ligier', 'driverName_Guy Mairesse', 'driverName_Guy Tunmer', 'driverName_Gérard Larrousse', 'driverName_Günther Bechem', 'driverName_Günther Seiffert', 'driverName_Hans Binder', 'driverName_Hans Herrmann', 'driverName_Hans Heyer', 'driverName_Hans Klenk', 'driverName_Hans von Stuck', 'driverName_Hans-Joachim Stuck', 'driverName_Hap Sharp', 'driverName_Harald Ertl', 'driverName_Harry Blanchard', 'driverName_Harry Schell', 'driverName_Hector Rebaque', 'driverName_Heikki Kovalainen', 'driverName_Heini Walter', 'driverName_Heinz Schiller', 'driverName_Heinz-Harald Frentzen', 'driverName_Helmut Marko', 'driverName_Helmut Niedermayr', 'driverName_Helmuth Koinigg', 'driverName_Henri Louveau', 'driverName_Henri Pescarolo', 'driverName_Henry Banks', 'driverName_Henry Taylor', 'driverName_Herbert MacKay-Fraser', 'driverName_Hermann Lang', 'driverName_Hernando da Silva Ramos', 'driverName_Hideki Noda', 'driverName_Hiroshi Fushida', 'driverName_Horace Gould', 'driverName_Howden Ganley', 'driverName_Hubert Hahne', 'driverName_Huub Rothengatter', 'driverName_Ian Ashley', 'driverName_Ian Burgess', 'driverName_Ian Raby', 'driverName_Ian Scheckter', 'driverName_Ian Stewart', 'driverName_Ignazio Giunti', 'driverName_Ingo Hoffmann', 'driverName_Innes Ireland', 'driverName_Ivan Capelli', 'driverName_Ivor Bueb', 'driverName_Jac Nelleman', 'driverName_Jack Aitken', 'driverName_Jack Brabham', 'driverName_Jack Doohan', 'driverName_Jack Fairman', 'driverName_Jack McGrath', 'driverName_Jack Turner', 'driverName_Jackie Holmes', 'driverName_Jackie Lewis', 'driverName_Jackie Oliver', 'driverName_Jackie Pretorius', 'driverName_Jackie Stewart', 'driverName_Jacky Ickx', 'driverName_Jacques Laffite', 'driverName_Jacques Pollet', 'driverName_Jacques Swaters', 'driverName_Jacques Villeneuve', 'driverName_Jacques Villeneuve Sr.', 'driverName_Jaime Alguersuari', 'driverName_James Hunt', 'driverName_Jan Flinterman', 'driverName_Jan Lammers', 'driverName_Jan Magnussen', 'driverName_Jarno Trulli', 'driverName_Jay Chamberlain', 'driverName_Jean Alesi', 'driverName_Jean Behra', 'driverName_Jean Lucas', 'driverName_Jean Lucienbonnet', 'driverName_Jean-Christophe Boullion', 'driverName_Jean-Denis Délétraz', 'driverName_Jean-Louis Schlesser', 'driverName_Jean-Marc Gounon', 'driverName_Jean-Pierre Beltoise', 'driverName_Jean-Pierre Jabouille', 'driverName_Jean-Pierre Jarier', 'driverName_Jean-Éric Vergne', 'driverName_Jenson Button', 'driverName_Jerry Hoyt', 'driverName_Jerry Unser', 'driverName_Jesús Iglesias', 'driverName_Jim Clark', 'driverName_Jim Crawford', 'driverName_Jim Hall', 'driverName_Jim Hurtubise', 'driverName_Jim McWithey', 'driverName_Jim Rathmann', 'driverName_Jim Rigsby', 'driverName_Jimmy Bryan', 'driverName_Jimmy Davies', 'driverName_Jimmy Daywalt', 'driverName_Jimmy Jackson', 'driverName_Jimmy Reece', 'driverName_Jimmy Stewart', 'driverName_Jo Bonnier', 'driverName_Jo Gartner', 'driverName_Jo Schlesser', 'driverName_Jo Siffert', 'driverName_Jo Vonlanthen', 'driverName_Joachim Winkelhock', 'driverName_Jochen Mass', 'driverName_Jochen Rindt', 'driverName_Jody Scheckter', 'driverName_Joe Fry', 'driverName_Joe James', 'driverName_Joe Kelly', 'driverName_John Barber', 'driverName_John Campbell-Jones', 'driverName_John Cannon', 'driverName_John Cordts', 'driverName_John Fitch', 'driverName_John James', 'driverName_John Love', 'driverName_John Miles', 'driverName_John Nicholson', 'driverName_John Rhodes', 'driverName_John Riseley-Prichard', 'driverName_John Surtees', 'driverName_John Taylor', 'driverName_John Watson', 'driverName_Johnnie Parsons', 'driverName_Johnnie Tolan', 'driverName_Johnny Boyd', 'driverName_Johnny Cecotto', 'driverName_Johnny Claes', 'driverName_Johnny Dumfries', 'driverName_Johnny Herbert', 'driverName_Johnny Mantz', 'driverName_Johnny McDowell', 'driverName_Johnny Servoz-Gavin', 'driverName_Johnny Thomson', 'driverName_Joie Chitwood', 'driverName_Jolyon Palmer', 'driverName_Jonathan Palmer', 'driverName_Jonathan Williams', 'driverName_Jorge Daponte', 'driverName_Jos Verstappen', 'driverName_Josef Peters', 'driverName_José Dolhem', 'driverName_José Froilán González', 'driverName_Juan Fangio', 'driverName_Juan Jover', 'driverName_Juan Manuel Bordeu', 'driverName_Juan Pablo Montoya', 'driverName_Jud Larson', 'driverName_Jules Bianchi', 'driverName_Julian Bailey', 'driverName_Justin Wilson', 'driverName_Jyrki Järvilehto', \"driverName_Jérôme d'Ambrosio\", 'driverName_Kamui Kobayashi', 'driverName_Karl Kling', 'driverName_Karl Wendlinger', 'driverName_Karun Chandhok', 'driverName_Kazuki Nakajima', 'driverName_Kazuyoshi Hoshino', 'driverName_Keith Andrews', 'driverName_Keith Greene', 'driverName_Keke Rosberg', 'driverName_Ken Downing', 'driverName_Ken Kavanagh', 'driverName_Ken Miles', 'driverName_Ken Richardson', 'driverName_Ken Wharton', 'driverName_Kenneth McAlpine', 'driverName_Kenny Acheson', 'driverName_Kevin Cogan', 'driverName_Kevin Magnussen', 'driverName_Kimi Räikkönen', 'driverName_Kunimitsu Takahashi', 'driverName_Kurt Adolff', 'driverName_Kurt Ahrens', 'driverName_Kurt Kuhnke', 'driverName_Lamberto Leoni', 'driverName_Lance Macklin', 'driverName_Lance Reventlow', 'driverName_Lance Stroll', 'driverName_Lando Norris', 'driverName_Larry Crockett', 'driverName_Larry Perkins', 'driverName_Lee Wallard', 'driverName_Lella Lombardi', 'driverName_Len Duncan', 'driverName_Len Sutton', 'driverName_Leo Kinnunen', 'driverName_Les Leston', 'driverName_Leslie Johnson', 'driverName_Leslie Marr', 'driverName_Leslie Thorne', 'driverName_Lewis Hamilton', 'driverName_Liam Lawson', 'driverName_Lloyd Ruby', 'driverName_Logan Sargeant', 'driverName_Lorenzo Bandini', 'driverName_Loris Kessel', 'driverName_Louis Chiron', 'driverName_Louis Rosier', 'driverName_Luca Badoer', 'driverName_Lucas di Grassi', 'driverName_Luciano Burti', 'driverName_Lucien Bianchi', 'driverName_Ludovico Scarfiotti', 'driverName_Luigi Fagioli', 'driverName_Luigi Musso', 'driverName_Luigi Piotti', 'driverName_Luigi Taramazzo', 'driverName_Luigi Villoresi', 'driverName_Luis Pérez-Sala', 'driverName_Luiz Bueno', 'driverName_Luki Botha', 'driverName_Mack Hellings', 'driverName_Manfred Winkelhock', 'driverName_Manny Ayulo', 'driverName_Marc Gené', 'driverName_Marc Surer', 'driverName_Marcel Balsa', 'driverName_Marco Apicella', 'driverName_Marcus Ericsson', 'driverName_Maria de Filippis', 'driverName_Mario Andretti', 'driverName_Mark Blundell', 'driverName_Mark Donohue', 'driverName_Mark Webber', 'driverName_Markus Winkelhock', 'driverName_Marshall Teague', 'driverName_Martin Brundle', 'driverName_Martin Donnelly', 'driverName_Masahiro Hasemi', 'driverName_Massimiliano Papis', 'driverName_Massimo Natili', 'driverName_Masten Gregory', 'driverName_Mauri Rose', 'driverName_Maurice Trintignant', 'driverName_Mauro Baldi', 'driverName_Maurício Gugelmin', 'driverName_Max Chilton', 'driverName_Max Jean', 'driverName_Max Verstappen', 'driverName_Max de Terra', 'driverName_Menato Boffa', 'driverName_Michael Andretti', 'driverName_Michael Bartels', 'driverName_Michael Bleekemolen', 'driverName_Michael May', 'driverName_Michael Schumacher', 'driverName_Michel Leclère', 'driverName_Michele Alboreto', 'driverName_Mick Schumacher', 'driverName_Miguel Ángel Guerra', 'driverName_Mika Häkkinen', 'driverName_Mika Salo', 'driverName_Mike Beuttler', 'driverName_Mike Fisher', 'driverName_Mike Hailwood', 'driverName_Mike Harris', 'driverName_Mike Hawthorn', 'driverName_Mike MacDowel', 'driverName_Mike Magill', 'driverName_Mike Nazaruk', 'driverName_Mike Parkes', 'driverName_Mike Sparken', 'driverName_Mike Spence', 'driverName_Mike Taylor', 'driverName_Mike Thackwell', 'driverName_Mike Wilds', 'driverName_Mikko Kozarowitzky', 'driverName_Moisés Solana', 'driverName_Myron Fohr', 'driverName_Mário de Araújo Cabral', 'driverName_Nanni Galli', 'driverName_Naoki Hattori', 'driverName_Narain Karthikeyan', 'driverName_Nasif Estéfano', 'driverName_Nello Pagani', 'driverName_Nelson Piquet', 'driverName_Nelson Piquet Jr.', 'driverName_Neville Lederle', 'driverName_Nicholas Latifi', 'driverName_Nick Heidfeld', 'driverName_Nico Hülkenberg', 'driverName_Nico Rosberg', 'driverName_Nicola Larini', 'driverName_Nicolas Kiesa', 'driverName_Nigel Mansell', 'driverName_Niki Lauda', 'driverName_Nikita Mazepin', 'driverName_Nino Farina', 'driverName_Nino Vaccarella', 'driverName_Norberto Fontana', 'driverName_Noritake Takahara', 'driverName_Nyck de Vries', 'driverName_Oliver Bearman', 'driverName_Olivier Beretta', 'driverName_Olivier Gendebien', 'driverName_Olivier Grouillard', 'driverName_Olivier Panis', 'driverName_Onofre Marimón', 'driverName_Oscar Gálvez', 'driverName_Oscar Larrauri', 'driverName_Oscar Piastri', 'driverName_Oswald Karch', 'driverName_Otto Stuppacher', 'driverName_Ottorino Volonterio', 'driverName_Pablo Birger', 'driverName_Paco Godia', 'driverName_Paddy Driver', 'driverName_Paolo Barilla', 'driverName_Pascal Fabre', 'driverName_Pascal Wehrlein', 'driverName_Pastor Maldonado', 'driverName_Pat Flaherty', \"driverName_Pat O'Connor\", 'driverName_Patrick Depailler', 'driverName_Patrick Friesacher', 'driverName_Patrick Gaillard', 'driverName_Patrick Nève', 'driverName_Patrick Tambay', 'driverName_Paul Belmondo', 'driverName_Paul Emery', 'driverName_Paul England', 'driverName_Paul Frère', 'driverName_Paul Goldsmith', 'driverName_Paul Hawkins', 'driverName_Paul Pietsch', 'driverName_Paul Russo', 'driverName_Paul di Resta', 'driverName_Pedro Chaves', 'driverName_Pedro Diniz', 'driverName_Pedro Lamy', 'driverName_Pedro Rodríguez', 'driverName_Pedro de la Rosa', 'driverName_Perry McCarthy', 'driverName_Pete Lovely', 'driverName_Peter Arundell', 'driverName_Peter Ashdown', 'driverName_Peter Broeker', 'driverName_Peter Collins', 'driverName_Peter Gethin', 'driverName_Peter Hirt', 'driverName_Peter Monteverdi', 'driverName_Peter Revson', 'driverName_Peter Ryan', 'driverName_Peter Walker', 'driverName_Peter Westbury', 'driverName_Peter Whitehead', 'driverName_Peter de Klerk', 'driverName_Phil Cade', 'driverName_Phil Hill', 'driverName_Philip Fotheringham-Parker', 'driverName_Philippe Adams', 'driverName_Philippe Alliot', 'driverName_Philippe Streiff', 'driverName_Philippe Étancelin', 'driverName_Piercarlo Ghinzani', 'driverName_Pierluigi Martini', 'driverName_Piero Carini', 'driverName_Piero Drogo', 'driverName_Piero Dusio', 'driverName_Piero Scotti', 'driverName_Piero Taruffi', 'driverName_Pierre Gasly', 'driverName_Pierre Levegh', 'driverName_Pierre-Henri Raphanel', 'driverName_Piers Courage', 'driverName_Pietro Fittipaldi', 'driverName_Prince Bira', 'driverName_Ralf Schumacher', 'driverName_Ralph Firman', 'driverName_Raul Boesel', 'driverName_Ray Crawford', 'driverName_Ray Reed', 'driverName_Raymond Sommer', 'driverName_Red Amick', 'driverName_Reg Parnell', 'driverName_Reine Wisell', 'driverName_Renato Pirocchi', 'driverName_Renzo Zorzi', 'driverName_René Arnoux', 'driverName_Ricardo Londoño', 'driverName_Ricardo Rodríguez', 'driverName_Ricardo Rosset', 'driverName_Ricardo Zonta', 'driverName_Ricardo Zunino', 'driverName_Riccardo Paletti', 'driverName_Riccardo Patrese', 'driverName_Richard Attwood', 'driverName_Richard Robarts', 'driverName_Richie Ginther', 'driverName_Rikky von Opel', 'driverName_Rio Haryanto', 'driverName_Rob Schroeder', 'driverName_Rob Slotemaker', 'driverName_Robert Doornbos', 'driverName_Robert Kubica', 'driverName_Robert La Caze', 'driverName_Robert Manzon', \"driverName_Robert O'Brien\", 'driverName_Roberto Bonomi', 'driverName_Roberto Bussinello', 'driverName_Roberto Guerrero', 'driverName_Roberto Lippi', 'driverName_Roberto Merhi', 'driverName_Roberto Mieres', 'driverName_Roberto Moreno', 'driverName_Robin Montgomerie-Charrington', 'driverName_Robin Widdows', 'driverName_Rodger Ward', 'driverName_Rodney Nuckey', 'driverName_Roelof Wunderink', 'driverName_Roger Laurent', 'driverName_Roger Loyer', 'driverName_Roger Penske', 'driverName_Roger Williamson', 'driverName_Roland Ratzenberger', 'driverName_Rolf Stommelen', 'driverName_Romain Grosjean', 'driverName_Ron Flockhart', 'driverName_Ronnie Bucknum', 'driverName_Ronnie Peterson', 'driverName_Roy Salvadori', 'driverName_Rubens Barrichello', 'driverName_Rudi Fischer', 'driverName_Rudolf Krause', 'driverName_Rudolf Schoeller', 'driverName_Rupert Keegan', 'driverName_Sakon Yamamoto', 'driverName_Sam Hanks', 'driverName_Sam Posey', 'driverName_Sam Tingle', 'driverName_Satoru Nakajima', 'driverName_Scott Speed', 'driverName_Sebastian Vettel', 'driverName_Sergey Sirotkin', 'driverName_Sergio Mantovani', 'driverName_Sergio Pérez', 'driverName_Shinji Nakano', 'driverName_Shorty Templeman', 'driverName_Siegfried Stohr', 'driverName_Silvio Moser', 'driverName_Skip Barber', 'driverName_Slim Borgudd', 'driverName_Stefan Bellof', 'driverName_Stefan Johansson', 'driverName_Stefano Modena', 'driverName_Stephen South', 'driverName_Stirling Moss', 'driverName_Stoffel Vandoorne', 'driverName_Stuart Lewis-Evans', 'driverName_Stéphane Sarrazin', 'driverName_Syd van der Vyver', 'driverName_Sébastien Bourdais', 'driverName_Sébastien Buemi', 'driverName_Taki Inoue', 'driverName_Takuma Sato', 'driverName_Tarso Marques', 'driverName_Ted Whiteaway', 'driverName_Teddy Pilette', 'driverName_Teo Fabi', 'driverName_Theo Fitzau', 'driverName_Theo Helfrich', 'driverName_Thierry Boutsen', 'driverName_Thomas Monarch', 'driverName_Tiago Monteiro', 'driverName_Tiff Needell', 'driverName_Tim Parnell', 'driverName_Tim Schenken', 'driverName_Timmy Mayer', 'driverName_Timo Glock', 'driverName_Tom Belsø', 'driverName_Tom Bridger', 'driverName_Tom Jones', 'driverName_Tom Pryce', 'driverName_Tommy Byrne', 'driverName_Tomáš Enge', 'driverName_Toni Branca', 'driverName_Toni Ulmen', 'driverName_Tony Bettenhausen', 'driverName_Tony Brise', 'driverName_Tony Brooks', 'driverName_Tony Crook', 'driverName_Tony Gaze', 'driverName_Tony Maggs', 'driverName_Tony Marsh', 'driverName_Tony Rolt', 'driverName_Tony Settember', 'driverName_Tony Shelly', 'driverName_Tony Trimmer', 'driverName_Toranosuke Takagi', 'driverName_Torsten Palm', 'driverName_Toshio Suzuki', 'driverName_Toulo de Graffenried', 'driverName_Travis Webb', 'driverName_Trevor Blokdyk', 'driverName_Trevor Taylor', 'driverName_Troy Ruttman', 'driverName_Ukyo Katayama', 'driverName_Umberto Maglioli', 'driverName_Valtteri Bottas', 'driverName_Vern Schuppan', 'driverName_Vic Elford', 'driverName_Vic Wilson', 'driverName_Vincenzo Sospiri', 'driverName_Vitaly Petrov', 'driverName_Vitantonio Liuzzi', 'driverName_Vittorio Brambilla', 'driverName_Volker Weidler', 'driverName_Walt Ader', 'driverName_Walt Brown', 'driverName_Walt Faulkner', 'driverName_Walt Hansgen', 'driverName_Warwick Brown', 'driverName_Wayne Weiler', 'driverName_Will Stevens', 'driverName_Willi Heeks', 'driverName_Willy Mairesse', 'driverName_Wilson Fittipaldi', 'driverName_Wolfgang Seidel', 'driverName_Wolfgang von Trips', 'driverName_Yannick Dalmas', 'driverName_Yuji Ide', 'driverName_Yuki Tsunoda', 'driverName_Yves Cabantous', 'driverName_Zsolt Baumgartner', 'driverName_Élie Bayol', 'driverName_Éric Bernard', 'driverName_Érik Comas', 'driverName_Óscar González', 'constructorName_AGS', 'constructorName_ATS', 'constructorName_Adams', 'constructorName_Alfa Romeo', 'constructorName_AlphaTauri', 'constructorName_Alpine F1 Team', 'constructorName_Alta', 'constructorName_Amon', 'constructorName_Andrea Moda', 'constructorName_Apollon', 'constructorName_Arrows', 'constructorName_Arzani-Volpini', 'constructorName_Aston Butterworth', 'constructorName_Aston Martin', 'constructorName_BAR', 'constructorName_BMW', 'constructorName_BMW Sauber', 'constructorName_BRM', 'constructorName_BRM-Ford', 'constructorName_BRP', 'constructorName_Behra-Porsche', 'constructorName_Bellasi', 'constructorName_Benetton', 'constructorName_Boro', 'constructorName_Brabham', 'constructorName_Brabham-Alfa Romeo', 'constructorName_Brabham-BRM', 'constructorName_Brabham-Climax', 'constructorName_Brabham-Ford', 'constructorName_Brabham-Repco', 'constructorName_Brawn', 'constructorName_Bromme', 'constructorName_Bugatti', 'constructorName_Caterham', 'constructorName_Christensen', 'constructorName_Cisitalia', 'constructorName_Coloni', 'constructorName_Connaught', 'constructorName_Connew', 'constructorName_Cooper', 'constructorName_Cooper-ATS', 'constructorName_Cooper-Alfa Romeo', 'constructorName_Cooper-BRM', 'constructorName_Cooper-Borgward', 'constructorName_Cooper-Castellotti', 'constructorName_Cooper-Climax', 'constructorName_Cooper-Ferrari', 'constructorName_Cooper-Ford', 'constructorName_Cooper-Maserati', 'constructorName_Cooper-OSCA', 'constructorName_Dallara', 'constructorName_De Tomaso', 'constructorName_De Tomaso-Alfa Romeo', 'constructorName_De Tomaso-Ferrari', 'constructorName_De Tomaso-Osca', 'constructorName_Deidt', 'constructorName_Del Roy', 'constructorName_Derrington', 'constructorName_Dunn', 'constructorName_EMW', 'constructorName_ENB', 'constructorName_ERA', 'constructorName_Eagle-Climax', 'constructorName_Eagle-Weslake', 'constructorName_Elder', 'constructorName_Embassy Hill', 'constructorName_Emeryson', 'constructorName_Ensign', 'constructorName_Epperly', 'constructorName_Euro Brun', 'constructorName_Ewing', 'constructorName_Ferguson', 'constructorName_Ferrari', 'constructorName_Fittipaldi', 'constructorName_Fondmetal', 'constructorName_Footwork', 'constructorName_Force India', 'constructorName_Forti', 'constructorName_Frazer Nash', 'constructorName_Fry', 'constructorName_Gilby', 'constructorName_Gordini', 'constructorName_HRT', 'constructorName_HWM', 'constructorName_Haas F1 Team', 'constructorName_Hall', 'constructorName_Hesketh', 'constructorName_Honda', 'constructorName_Iso Marlboro', 'constructorName_JBW', 'constructorName_Jaguar', 'constructorName_Jordan', 'constructorName_Kauhsen', 'constructorName_Klenk', 'constructorName_Kojima', 'constructorName_Kurtis Kraft', 'constructorName_Kuzma', 'constructorName_LDS', 'constructorName_LDS-Alfa Romeo', 'constructorName_LDS-Climax', 'constructorName_LEC', 'constructorName_Lambo', 'constructorName_Lancia', 'constructorName_Langley', 'constructorName_Larrousse', 'constructorName_Lesovsky', 'constructorName_Leyton House', 'constructorName_Life', 'constructorName_Ligier', 'constructorName_Lola', 'constructorName_Lotus', 'constructorName_Lotus F1', 'constructorName_Lotus-BRM', 'constructorName_Lotus-Borgward', 'constructorName_Lotus-Climax', 'constructorName_Lotus-Ford', 'constructorName_Lotus-Maserati', 'constructorName_Lotus-Pratt &amp; Whitney', 'constructorName_Lyncar', 'constructorName_MBM', 'constructorName_MF1', 'constructorName_Maki', 'constructorName_Manor Marussia', 'constructorName_March', 'constructorName_March-Alfa Romeo', 'constructorName_March-Ford', 'constructorName_Marchese', 'constructorName_Martini', 'constructorName_Marussia', 'constructorName_Maserati', 'constructorName_Matra', 'constructorName_Matra-Ford', 'constructorName_McGuire', 'constructorName_McLaren', 'constructorName_McLaren-Alfa Romeo', 'constructorName_McLaren-BRM', 'constructorName_McLaren-Ford', 'constructorName_McLaren-Serenissima', 'constructorName_Mercedes', 'constructorName_Merzario', 'constructorName_Meskowski', 'constructorName_Milano', 'constructorName_Minardi', 'constructorName_Moore', 'constructorName_Nichels', 'constructorName_OSCA', 'constructorName_Olson', 'constructorName_Onyx', 'constructorName_Osella', 'constructorName_Pacific', 'constructorName_Pankratz', 'constructorName_Parnelli', 'constructorName_Pawl', 'constructorName_Penske', 'constructorName_Phillips', 'constructorName_Politoys', 'constructorName_Porsche', 'constructorName_Prost', 'constructorName_Protos', 'constructorName_RAM', 'constructorName_RB F1 Team', 'constructorName_RE', 'constructorName_Racing Point', 'constructorName_Rae', 'constructorName_Rebaque', 'constructorName_Red Bull', 'constructorName_Renault', 'constructorName_Rial', 'constructorName_Sauber', 'constructorName_Scarab', 'constructorName_Schroeder', 'constructorName_Scirocco', 'constructorName_Shadow', 'constructorName_Shadow-Ford', 'constructorName_Shadow-Matra', 'constructorName_Shannon', 'constructorName_Sherman', 'constructorName_Simca', 'constructorName_Simtek', 'constructorName_Snowberger', 'constructorName_Spirit', 'constructorName_Spyker', 'constructorName_Spyker MF1', 'constructorName_Stebro', 'constructorName_Stevens', 'constructorName_Stewart', 'constructorName_Super Aguri', 'constructorName_Surtees', 'constructorName_Sutton', 'constructorName_Talbot-Lago', 'constructorName_Team Lotus', 'constructorName_Tec-Mec', 'constructorName_Tecno', 'constructorName_Theodore', 'constructorName_Token', 'constructorName_Toleman', 'constructorName_Toro Rosso', 'constructorName_Toyota', 'constructorName_Trevis', 'constructorName_Trojan', 'constructorName_Turner', 'constructorName_Tyrrell', 'constructorName_Vanwall', 'constructorName_Veritas', 'constructorName_Virgin', 'constructorName_Watson', 'constructorName_Wetteroth', 'constructorName_Williams', 'constructorName_Wolf', 'constructorName_Zakspeed']\n",
      "Number of one-hot encoded columns: 1123\n"
     ]
    }
   ],
   "source": [
    "# Get all one-hot encoded columns\n",
    "one_hot_encoded_columns = [col for col in X.columns if col.startswith(\"raceName_\") or col.startswith(\"driverName_\") or col.startswith(\"constructorName_\")]\n",
    "print(\"One-hot encoded columns:\", one_hot_encoded_columns)\n",
    "\n",
    "X = X.drop(columns=one_hot_encoded_columns)\n",
    "print(\"Number of one-hot encoded columns:\", len(one_hot_encoded_columns))"
   ]
  },
  {
   "cell_type": "markdown",
   "metadata": {},
   "source": [
    "### **1.3.1 Why the 80/20 Split is Appropriate**\n",
    "\n",
    "We argue for using an 80/20 split for this dataset.\n",
    "\n",
    "The Formula 1 results dataset contains data from many seasons and hundreds of races dating back from 1950s, which means the sample size is large enough to allocate 20% for testing without sacrificing too much training data. Using 80% of the data for training allows for the logisitc regression model to learn from a wide range of drivers, constructors, and circuits, while 20 provides a sufficiently large and diverse set for evaluating model performance on unseen races.\n",
    "\n",
    "Additionally, the dataset exhibits a moderate class imbalance, of which only 15% of the entires are podium finishes (top 3). By using stratified sampling, we ensure that both the training and testing sets preserve this natural imbalance. This makes our evaluation metrics more reliable and representative of real-world performance."
   ]
  }
 ],
 "metadata": {
  "kernelspec": {
   "display_name": "mlenv3_11",
   "language": "python",
   "name": "python3"
  },
  "language_info": {
   "codemirror_mode": {
    "name": "ipython",
    "version": 3
   },
   "file_extension": ".py",
   "mimetype": "text/x-python",
   "name": "python",
   "nbconvert_exporter": "python",
   "pygments_lexer": "ipython3",
   "version": "3.11.13"
  }
 },
 "nbformat": 4,
 "nbformat_minor": 2
}
