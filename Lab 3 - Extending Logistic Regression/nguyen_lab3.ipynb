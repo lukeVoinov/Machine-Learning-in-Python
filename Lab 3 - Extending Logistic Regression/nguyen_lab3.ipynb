{
 "cells": [
  {
   "cell_type": "markdown",
   "metadata": {},
   "source": [
    "## **1. Business Understanding**\n",
    "\n",
    "For this report, we will define the classification problem as predicting whether a driver will finish on the podium (top 3) in a given race based on pre-race and qualifying data from the Formula 1 World Championship (1950-2024) dataset from Kaggle. A value of 1 represents a podium finish (1st, 2nd, or 3rd place), while a value of 0 represents a non-podium finish (all other positions, including retirements or disqualifications). Features that may be used in the model include grid position, constructor (team), track characteristics, driver performance history, and season information.\n",
    "\n",
    "The business case for this type of model is centered on forecasting and strategic decision-making. Racing teams could use such a model to estimate the likelihood of a podium finish before the race to guide strategy, such as pit stop planning or driver expectations. Broadcasters and analysts could use the predicted probabilities to enhance pre-race coverage with data-driven insights, while sponsors and advertisers could use these forecasters to assess expected driver visibiliy and exposure.\n",
    "\n",
    "This type of model would be used primarily for offline analysis or pre-race forecasting, not for rela-time decision-making during a race. Because podium finishes are rarely rare events, the model does not need to achieve perfect accuracy to be valuable. Instead, its usefulness lies in performing better than a naive baseline (predicting \"no podium\"), providing some discriminative power to identify which drivers are more likely to place highly. Even a moderate level of accuracy would provide helpful insights for teams, broadcasters, and sponsors."
   ]
  },
  {
   "cell_type": "code",
   "execution_count": 86,
   "metadata": {},
   "outputs": [],
   "source": [
    "# Import any dependencies\n",
    "\n",
    "import pandas as pd\n",
    "from sklearn.model_selection import train_test_split\n",
    "import matplotlib.pyplot as plt\n",
    "import seaborn as sns"
   ]
  },
  {
   "cell_type": "markdown",
   "metadata": {},
   "source": [
    "### **1.2 Pre-processing**\n",
    "\n",
    "- raceId: unique identifier for each race (categorical), one-hot encoded integer (ID variable)\n",
    "- driverId: unique identifier for each driver (categorical), one-hot encoded integer (driver identity)\n",
    "- constructorId: unique identifier for each constructor/team (categorical), one-hot encoded integer (team identity)\n",
    "- grid: driver's starting position on the grid (ex, 1 = pole/1st place); numerical; integer, scaled\n",
    "- year: year of the race (numerical); integer, scaled\n",
    "- round: round number in the racing season (numerical); integer, scaled\n",
    "- positionOrder: final finishing position of the driver (numerical); integer (used only to create target)\n",
    "- podium (target): binary target including podium finish (1 = podium, 0 = not podium); categorical; binary integer/boolean"
   ]
  },
  {
   "cell_type": "markdown",
   "metadata": {},
   "source": [
    "Below, we have all the CSVs loaded and we had chosen our variables from the four (results, races, drivers, and constructors). We did not consider columns such as *milliseconds*, *fastestLap*, and *status* because they depended on in-race events. Any rows that were missing *positionOrder* were dropped as these were essential for defining the target variable and key features.\n",
    "\n",
    "The target variable for this task is **podium**, which indicates whether or not a driver finishes in the top 3 for a given race.\n",
    "- ```podium = 1```: driver finished in position 1, 2, or 3\n",
    "- ```podium = 0```: driver finished in any other positions, including DNFs (did not finish)\n",
    "\n",
    "This variable is derived from the ```positionOrder``` column in the Formula 1 World Championship (1950-2024) dataset."
   ]
  },
  {
   "cell_type": "code",
   "execution_count": 87,
   "metadata": {},
   "outputs": [
    {
     "name": "stdout",
     "output_type": "stream",
     "text": [
      "ERROR! Session/line number was not unique in database. History logging moved to new session 90\n"
     ]
    }
   ],
   "source": [
    "# Adapted from Tiffany Nguyen's Lab 1 submission for CS 5324.\n",
    "\n",
    "results = pd.read_csv(\"/Users/tiffany/Desktop/CS 5324/CS 5324 Datasets/results.csv\")\n",
    "races = pd.read_csv(\"/Users/tiffany/Desktop/CS 5324/CS 5324 Datasets/races.csv\")\n",
    "drivers = pd.read_csv(\"/Users/tiffany/Desktop/CS 5324/CS 5324 Datasets/drivers.csv\")\n",
    "constructors = pd.read_csv(\"/Users/tiffany/Desktop/CS 5324/CS 5324 Datasets/constructors.csv\")\n",
    "\n",
    "# Create full driver name column in drivers dataset\n",
    "drivers['driverName'] = drivers['forename'] + ' ' + drivers['surname']\n",
    "\n",
    "# Start with results\n",
    "merged = results.copy()\n",
    "\n",
    "# Add driver names\n",
    "merged = merged.merge(drivers[['driverId', 'driverName']], on='driverId', how='left')\n",
    "merged = merged.drop(columns=['driverId'])\n",
    "\n",
    "# Add race names (for readability)\n",
    "merged = merged.merge(races[['raceId', 'name', 'year', 'round']], on='raceId', how='left')\n",
    "merged = merged.drop(columns=['raceId'])\n",
    "merged = merged.rename(columns={'name': 'raceName'})\n",
    "\n",
    "# Add constructor names (team)\n",
    "merged = merged.merge(constructors[['constructorId', 'name']], on='constructorId', how='left')\n",
    "merged = merged.drop(columns=['constructorId'])\n",
    "merged = merged.rename(columns={'name': 'constructorName'})\n",
    "\n",
    "# Create the Podium Target Variable\n",
    "merged = merged.dropna(subset=['positionOrder', 'grid'])  # drop rows missing key fields\n",
    "merged['podium'] = merged['positionOrder'].apply(lambda x: 1 if x <= 3 else 0)"
   ]
  },
  {
   "cell_type": "markdown",
   "metadata": {},
   "source": [
    "To make reading the CSV easier for us to work with, we'll change the ```driverId``` and match it with their corresponding name, the ```raceId``` to the corresponding name, and the ```constructorId``` to their corresponding ```constructorName```. It is easy to do this since they're all in the CSVs we're working with for this report."
   ]
  },
  {
   "cell_type": "code",
   "execution_count": 88,
   "metadata": {},
   "outputs": [
    {
     "name": "stdout",
     "output_type": "stream",
     "text": [
      "Shape of data: (26759, 8)\n",
      "                raceName         driverName constructorName  grid  \\\n",
      "0  Australian Grand Prix     Lewis Hamilton         McLaren     1   \n",
      "1  Australian Grand Prix      Nick Heidfeld      BMW Sauber     5   \n",
      "2  Australian Grand Prix       Nico Rosberg        Williams     7   \n",
      "3  Australian Grand Prix    Fernando Alonso         Renault    11   \n",
      "4  Australian Grand Prix  Heikki Kovalainen         McLaren     3   \n",
      "\n",
      "   positionOrder  year  round  podium  \n",
      "0              1  2008      1       1  \n",
      "1              2  2008      1       1  \n",
      "2              3  2008      1       1  \n",
      "3              4  2008      1       0  \n",
      "4              5  2008      1       0  \n",
      "Cleaned data saved to f1_cleaned.csv\n"
     ]
    }
   ],
   "source": [
    "# These columns are available BEFORE the race\n",
    "df = merged[[\n",
    "    \"raceName\",           # unique race\n",
    "    \"driverName\",         # driver identity\n",
    "    \"constructorName\",    # team identity\n",
    "    \"grid\",             # starting position\n",
    "    \"positionOrder\",    # finishing position\n",
    "    \"year\",             # year\n",
    "    \"round\"             # round in season\n",
    "]]\n",
    "\n",
    "# Remove rows with missing or invalid grid of position values\n",
    "df = df.dropna(subset=[\"grid\", \"positionOrder\"])\n",
    "\n",
    "# Create binary target: 1 if podium else 0\n",
    "df[\"podium\"] = df[\"positionOrder\"].apply(lambda x: 1 if x <= 3 else 0)\n",
    "\n",
    "print(\"Shape of data:\", df.shape)\n",
    "print(df.head())\n",
    "\n",
    "# Save cleaned data to CSV\n",
    "df.to_csv(\"/Users/tiffany/Desktop/CS 5324/CS 5324 Datasets/f1_cleaned.csv\", index=False)\n",
    "print(\"Cleaned data saved to f1_cleaned.csv\")"
   ]
  },
  {
   "cell_type": "markdown",
   "metadata": {},
   "source": [
    "Let's double check if there are any missing values per column."
   ]
  },
  {
   "cell_type": "code",
   "execution_count": 89,
   "metadata": {},
   "outputs": [
    {
     "name": "stdout",
     "output_type": "stream",
     "text": [
      "raceName           0\n",
      "driverName         0\n",
      "constructorName    0\n",
      "grid               0\n",
      "positionOrder      0\n",
      "year               0\n",
      "round              0\n",
      "podium             0\n",
      "dtype: int64\n",
      "False\n"
     ]
    }
   ],
   "source": [
    "# Check for missing values in the entire dataset\n",
    "print(df.isnull().sum())  # Shows the count of missing values per column\n",
    "\n",
    "# Alternatively, check if there are any missing values at all\n",
    "print(df.isnull().values.any())  # Returns True if there are missing values"
   ]
  },
  {
   "cell_type": "markdown",
   "metadata": {},
   "source": [
    "Since there are no more missing data to deal with, we will check what the summary of the dataframe gives us in terms of the data types and number of non-null values."
   ]
  },
  {
   "cell_type": "code",
   "execution_count": 90,
   "metadata": {},
   "outputs": [
    {
     "name": "stdout",
     "output_type": "stream",
     "text": [
      "<class 'pandas.core.frame.DataFrame'>\n",
      "RangeIndex: 26759 entries, 0 to 26758\n",
      "Data columns (total 8 columns):\n",
      " #   Column           Non-Null Count  Dtype \n",
      "---  ------           --------------  ----- \n",
      " 0   raceName         26759 non-null  object\n",
      " 1   driverName       26759 non-null  object\n",
      " 2   constructorName  26759 non-null  object\n",
      " 3   grid             26759 non-null  int64 \n",
      " 4   positionOrder    26759 non-null  int64 \n",
      " 5   year             26759 non-null  int64 \n",
      " 6   round            26759 non-null  int64 \n",
      " 7   podium           26759 non-null  int64 \n",
      "dtypes: int64(5), object(3)\n",
      "memory usage: 1.6+ MB\n"
     ]
    }
   ],
   "source": [
    "df.info()"
   ]
  },
  {
   "cell_type": "code",
   "execution_count": 91,
   "metadata": {},
   "outputs": [
    {
     "data": {
      "text/html": [
       "<div>\n",
       "<style scoped>\n",
       "    .dataframe tbody tr th:only-of-type {\n",
       "        vertical-align: middle;\n",
       "    }\n",
       "\n",
       "    .dataframe tbody tr th {\n",
       "        vertical-align: top;\n",
       "    }\n",
       "\n",
       "    .dataframe thead th {\n",
       "        text-align: right;\n",
       "    }\n",
       "</style>\n",
       "<table border=\"1\" class=\"dataframe\">\n",
       "  <thead>\n",
       "    <tr style=\"text-align: right;\">\n",
       "      <th></th>\n",
       "      <th>raceName</th>\n",
       "      <th>driverName</th>\n",
       "      <th>constructorName</th>\n",
       "      <th>grid</th>\n",
       "      <th>positionOrder</th>\n",
       "      <th>year</th>\n",
       "      <th>round</th>\n",
       "      <th>podium</th>\n",
       "    </tr>\n",
       "  </thead>\n",
       "  <tbody>\n",
       "    <tr>\n",
       "      <th>0</th>\n",
       "      <td>Australian Grand Prix</td>\n",
       "      <td>Lewis Hamilton</td>\n",
       "      <td>McLaren</td>\n",
       "      <td>1</td>\n",
       "      <td>1</td>\n",
       "      <td>2008</td>\n",
       "      <td>1</td>\n",
       "      <td>1</td>\n",
       "    </tr>\n",
       "    <tr>\n",
       "      <th>1</th>\n",
       "      <td>Australian Grand Prix</td>\n",
       "      <td>Nick Heidfeld</td>\n",
       "      <td>BMW Sauber</td>\n",
       "      <td>5</td>\n",
       "      <td>2</td>\n",
       "      <td>2008</td>\n",
       "      <td>1</td>\n",
       "      <td>1</td>\n",
       "    </tr>\n",
       "    <tr>\n",
       "      <th>2</th>\n",
       "      <td>Australian Grand Prix</td>\n",
       "      <td>Nico Rosberg</td>\n",
       "      <td>Williams</td>\n",
       "      <td>7</td>\n",
       "      <td>3</td>\n",
       "      <td>2008</td>\n",
       "      <td>1</td>\n",
       "      <td>1</td>\n",
       "    </tr>\n",
       "    <tr>\n",
       "      <th>3</th>\n",
       "      <td>Australian Grand Prix</td>\n",
       "      <td>Fernando Alonso</td>\n",
       "      <td>Renault</td>\n",
       "      <td>11</td>\n",
       "      <td>4</td>\n",
       "      <td>2008</td>\n",
       "      <td>1</td>\n",
       "      <td>0</td>\n",
       "    </tr>\n",
       "    <tr>\n",
       "      <th>4</th>\n",
       "      <td>Australian Grand Prix</td>\n",
       "      <td>Heikki Kovalainen</td>\n",
       "      <td>McLaren</td>\n",
       "      <td>3</td>\n",
       "      <td>5</td>\n",
       "      <td>2008</td>\n",
       "      <td>1</td>\n",
       "      <td>0</td>\n",
       "    </tr>\n",
       "    <tr>\n",
       "      <th>5</th>\n",
       "      <td>Australian Grand Prix</td>\n",
       "      <td>Kazuki Nakajima</td>\n",
       "      <td>Williams</td>\n",
       "      <td>13</td>\n",
       "      <td>6</td>\n",
       "      <td>2008</td>\n",
       "      <td>1</td>\n",
       "      <td>0</td>\n",
       "    </tr>\n",
       "    <tr>\n",
       "      <th>6</th>\n",
       "      <td>Australian Grand Prix</td>\n",
       "      <td>Sébastien Bourdais</td>\n",
       "      <td>Toro Rosso</td>\n",
       "      <td>17</td>\n",
       "      <td>7</td>\n",
       "      <td>2008</td>\n",
       "      <td>1</td>\n",
       "      <td>0</td>\n",
       "    </tr>\n",
       "    <tr>\n",
       "      <th>7</th>\n",
       "      <td>Australian Grand Prix</td>\n",
       "      <td>Kimi Räikkönen</td>\n",
       "      <td>Ferrari</td>\n",
       "      <td>15</td>\n",
       "      <td>8</td>\n",
       "      <td>2008</td>\n",
       "      <td>1</td>\n",
       "      <td>0</td>\n",
       "    </tr>\n",
       "    <tr>\n",
       "      <th>8</th>\n",
       "      <td>Australian Grand Prix</td>\n",
       "      <td>Robert Kubica</td>\n",
       "      <td>BMW Sauber</td>\n",
       "      <td>2</td>\n",
       "      <td>9</td>\n",
       "      <td>2008</td>\n",
       "      <td>1</td>\n",
       "      <td>0</td>\n",
       "    </tr>\n",
       "    <tr>\n",
       "      <th>9</th>\n",
       "      <td>Australian Grand Prix</td>\n",
       "      <td>Timo Glock</td>\n",
       "      <td>Toyota</td>\n",
       "      <td>18</td>\n",
       "      <td>10</td>\n",
       "      <td>2008</td>\n",
       "      <td>1</td>\n",
       "      <td>0</td>\n",
       "    </tr>\n",
       "  </tbody>\n",
       "</table>\n",
       "</div>"
      ],
      "text/plain": [
       "                raceName          driverName constructorName  grid  \\\n",
       "0  Australian Grand Prix      Lewis Hamilton         McLaren     1   \n",
       "1  Australian Grand Prix       Nick Heidfeld      BMW Sauber     5   \n",
       "2  Australian Grand Prix        Nico Rosberg        Williams     7   \n",
       "3  Australian Grand Prix     Fernando Alonso         Renault    11   \n",
       "4  Australian Grand Prix   Heikki Kovalainen         McLaren     3   \n",
       "5  Australian Grand Prix     Kazuki Nakajima        Williams    13   \n",
       "6  Australian Grand Prix  Sébastien Bourdais      Toro Rosso    17   \n",
       "7  Australian Grand Prix      Kimi Räikkönen         Ferrari    15   \n",
       "8  Australian Grand Prix       Robert Kubica      BMW Sauber     2   \n",
       "9  Australian Grand Prix          Timo Glock          Toyota    18   \n",
       "\n",
       "   positionOrder  year  round  podium  \n",
       "0              1  2008      1       1  \n",
       "1              2  2008      1       1  \n",
       "2              3  2008      1       1  \n",
       "3              4  2008      1       0  \n",
       "4              5  2008      1       0  \n",
       "5              6  2008      1       0  \n",
       "6              7  2008      1       0  \n",
       "7              8  2008      1       0  \n",
       "8              9  2008      1       0  \n",
       "9             10  2008      1       0  "
      ]
     },
     "execution_count": 91,
     "metadata": {},
     "output_type": "execute_result"
    }
   ],
   "source": [
    "df.head(10)"
   ]
  },
  {
   "cell_type": "markdown",
   "metadata": {},
   "source": [
    "### **1.3 Splitting 80/20**\n",
    "\n",
    "Now that the data is easier to read for us (Luke and Tiffany), we can take this data and divide it into training and testing data using an 80% training and 20% testing split."
   ]
  },
  {
   "cell_type": "code",
   "execution_count": 92,
   "metadata": {},
   "outputs": [
    {
     "name": "stdout",
     "output_type": "stream",
     "text": [
      "Training set shape: (21407, 1126)\n",
      "Test set shape: (5352, 1126)\n"
     ]
    }
   ],
   "source": [
    "# Load the cleaned dataset\n",
    "df = pd.read_csv(\"/Users/tiffany/Desktop/CS 5324/CS 5324 Datasets/f1_cleaned.csv\")\n",
    "\n",
    "# Features and target variable\n",
    "X = df.drop(columns=[\"podium\", \"positionOrder\"])\n",
    "y = df[\"podium\"]\n",
    "\n",
    "# For now, we'll encode categorical variables using one-hot encoding\n",
    "X = pd.get_dummies(X, columns=[\"raceName\", \"driverName\", \"constructorName\"], drop_first=True)\n",
    "\n",
    "# Train-test split with stratification (80% train, 20% split)\n",
    "X_train, X_test, y_train, y_test = train_test_split(X, y, test_size=0.2, random_state=42, stratify=df[\"podium\"]) # stratify to maintain class distribution \n",
    "\n",
    "print(\"Training set shape:\", X_train.shape)\n",
    "print(\"Test set shape:\", X_test.shape)"
   ]
  },
  {
   "cell_type": "markdown",
   "metadata": {},
   "source": [
    "### **1.3.1 Why the 80/20 Split is Appropriate**\n",
    "\n",
    "We argue for using an 80/20 split for this dataset.\n",
    "\n",
    "The Formula 1 results dataset contains data from many seasons and hundreds of races dating back from 1950s, which means the sample size is large enough to allocate 20% for testing without sacrificing too much training data. Using 80% of the data for training allows for the logisitc regression model to learn from a wide range of drivers, constructors, and circuits, while 20 provides a sufficiently large and diverse set for evaluating model performance on unseen races.\n",
    "\n",
    "Additionally, the dataset exhibits a moderate class imbalance, of which only 15% of the entires are podium finishes (top 3). By using stratified sampling, we ensure that both the training and testing sets preserve this natural imbalance. This makes our evaluation metrics more reliable and representative of real-world performance."
   ]
  }
 ],
 "metadata": {
  "kernelspec": {
   "display_name": "mlenv3_11",
   "language": "python",
   "name": "python3"
  },
  "language_info": {
   "codemirror_mode": {
    "name": "ipython",
    "version": 3
   },
   "file_extension": ".py",
   "mimetype": "text/x-python",
   "name": "python",
   "nbconvert_exporter": "python",
   "pygments_lexer": "ipython3",
   "version": "3.11.13"
  }
 },
 "nbformat": 4,
 "nbformat_minor": 2
}
