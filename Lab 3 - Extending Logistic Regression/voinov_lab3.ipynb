{
 "cells": [
  {
   "cell_type": "markdown",
   "id": "b677f0ef",
   "metadata": {},
   "source": [
    "# **Lab 3: Extending Logistic Regression**\n",
    "**Name(s):** Luke Voinov, Tiffany Nguyen\n",
    "\n",
    "All the code is adapted from the following notebooks by Eric Larson:\n",
    "\n",
    "https://github.com/eclarson/MachineLearningNotebooks/blob/master/05.%20Logistic%20Regression.ipynb\n",
    "\n",
    "https://github.com/eclarson/MachineLearningNotebooks/blob/master/PDF_Slides/current%20slides/ML_4c_bfgs.pdf"
   ]
  },
  {
   "cell_type": "markdown",
   "id": "77d82b79",
   "metadata": {},
   "source": [
    "## 1. Business Understanding\n",
    "\n",
    "For this report, we will define the classification problem as predicting whether a driver will finish on the podium (top 3) in a given race based on pre-race and qualifying data from the Formula 1 World Championship (1950-2024) dataset from Kaggle. A value of 1 represents a podium finish (1st, 2nd, or 3rd place), while a value of 0 represents a non-podium finish (all other positions, including retirements or disqualifications). Features that may be used in the model include grid position, constructor (team), track characteristics, driver performance history, and season information.\n",
    "\n",
    "The business case for this type of model is centered on forecasting and strategic decision-making. Racing teams could use such a model to estimate the likelihood of a podium finish before the race to guide strategy, such as pit stop planning or driver expectations. Broadcasters and analysts could use the predicted probabilities to enhance pre-race coverage with data-driven insights, while sponsors and advertisers could use these forecasters to assess expected driver visibiliy and exposure.\n",
    "\n",
    "This type of model would be used primarily for offline analysis or pre-race forecasting, not for rela-time decision-making during a race. Because podium finishes are rarely rare events, the model does not need to achieve perfect accuracy to be valuable. Instead, its usefulness lies in performing better than a naive baseline (predicting \"no podium\"), providing some discriminative power to identify which drivers are more likely to place highly. Even a moderate level of accuracy would provide helpful insights for teams, broadcasters, and sponsors."
   ]
  },
  {
   "cell_type": "code",
   "execution_count": 141,
   "id": "8d6d17ae",
   "metadata": {},
   "outputs": [],
   "source": [
    "# Import any dependencies\n",
    "\n",
    "import pandas as pd\n",
    "import numpy as np\n",
    "from sklearn.model_selection import train_test_split\n",
    "import matplotlib.pyplot as plt\n",
    "import seaborn as sns"
   ]
  },
  {
   "cell_type": "markdown",
   "id": "1d65939c",
   "metadata": {},
   "source": [
    "### **1.2 Pre-processing**\n",
    "\n",
    "- raceId: unique identifier for each race (categorical), one-hot encoded integer (ID variable)\n",
    "- driverId: unique identifier for each driver (categorical), one-hot encoded integer (driver identity)\n",
    "- constructorId: unique identifier for each constructor/team (categorical), one-hot encoded integer (team identity)\n",
    "- grid: driver's starting position on the grid (ex, 1 = pole/1st place); numerical; integer, scaled\n",
    "- year: year of the race (numerical); integer, scaled\n",
    "- round: round number in the racing season (numerical); integer, scaled\n",
    "- positionOrder: final finishing position of the driver (numerical); integer (used only to create target)\n",
    "- podium (target): binary target including podium finish (1 = podium, 0 = not podium); categorical; binary integer/boolean"
   ]
  },
  {
   "cell_type": "markdown",
   "id": "4af8a73a",
   "metadata": {},
   "source": [
    "Below, we have all the CSVs loaded and we had chosen our variables from the four (results, races, drivers, and constructors). We did not consider columns such as *milliseconds*, *fastestLap*, and *status* because they depended on in-race events. Any rows that were missing *positionOrder* were dropped as these were essential for defining the target variable and key features.\n",
    "\n",
    "The target variable for this task is **podium**, which indicates whether or not a driver finishes in the top 3 for a given race.\n",
    "- ```podium = 1```: driver finished in position 1, 2, or 3\n",
    "- ```podium = 0```: driver finished in any other positions, including DNFs (did not finish)\n",
    "\n",
    "This variable is derived from the ```positionOrder``` column in the Formula 1 World Championship (1950-2024) dataset."
   ]
  },
  {
   "cell_type": "code",
   "execution_count": 142,
   "id": "bdc9f619",
   "metadata": {},
   "outputs": [
    {
     "name": "stdout",
     "output_type": "stream",
     "text": [
      "Shape of data: (26759, 8)\n",
      "                raceName         driverName constructorName  grid  \\\n",
      "0  Australian Grand Prix     Lewis Hamilton         McLaren     1   \n",
      "1  Australian Grand Prix      Nick Heidfeld      BMW Sauber     5   \n",
      "2  Australian Grand Prix       Nico Rosberg        Williams     7   \n",
      "3  Australian Grand Prix    Fernando Alonso         Renault    11   \n",
      "4  Australian Grand Prix  Heikki Kovalainen         McLaren     3   \n",
      "\n",
      "   positionOrder  year  round  podium  \n",
      "0              1  2008      1       1  \n",
      "1              2  2008      1       1  \n",
      "2              3  2008      1       1  \n",
      "3              4  2008      1       0  \n",
      "4              5  2008      1       0  \n"
     ]
    }
   ],
   "source": [
    "# Dataset cleaned in lab Tiffany Nguyen's Lab 1. We use it here\n",
    "path = \"C:/Users/lukev/Downloads/f1_cleaned.csv\"\n",
    "df = pd.read_csv(path)\n",
    "print(\"Shape of data:\", df.shape)\n",
    "print(df.head())"
   ]
  },
  {
   "cell_type": "markdown",
   "id": "40dc8bdf",
   "metadata": {},
   "source": [
    "Let's double check if there are any missing values per column."
   ]
  },
  {
   "cell_type": "code",
   "execution_count": 143,
   "id": "b7879c9b",
   "metadata": {},
   "outputs": [
    {
     "name": "stdout",
     "output_type": "stream",
     "text": [
      "raceName           0\n",
      "driverName         0\n",
      "constructorName    0\n",
      "grid               0\n",
      "positionOrder      0\n",
      "year               0\n",
      "round              0\n",
      "podium             0\n",
      "dtype: int64\n",
      "Missing values = False\n"
     ]
    }
   ],
   "source": [
    "# Check for missing values in the entire dataset\n",
    "print(df.isnull().sum())  # Shows the count of missing values per column\n",
    "\n",
    "# Alternatively, check if there are any missing values at all\n",
    "print(\"Missing values =\", df.isnull().values.any())  # Returns True if there are missing values"
   ]
  },
  {
   "cell_type": "markdown",
   "id": "00b80154",
   "metadata": {},
   "source": [
    "Since there are no more missing data to deal with, we will check what the summary of the dataframe gives us in terms of the data types and number of non-null values."
   ]
  },
  {
   "cell_type": "code",
   "execution_count": 144,
   "id": "205205dc",
   "metadata": {},
   "outputs": [
    {
     "name": "stdout",
     "output_type": "stream",
     "text": [
      "<class 'pandas.core.frame.DataFrame'>\n",
      "RangeIndex: 26759 entries, 0 to 26758\n",
      "Data columns (total 8 columns):\n",
      " #   Column           Non-Null Count  Dtype \n",
      "---  ------           --------------  ----- \n",
      " 0   raceName         26759 non-null  object\n",
      " 1   driverName       26759 non-null  object\n",
      " 2   constructorName  26759 non-null  object\n",
      " 3   grid             26759 non-null  int64 \n",
      " 4   positionOrder    26759 non-null  int64 \n",
      " 5   year             26759 non-null  int64 \n",
      " 6   round            26759 non-null  int64 \n",
      " 7   podium           26759 non-null  int64 \n",
      "dtypes: int64(5), object(3)\n",
      "memory usage: 1.6+ MB\n"
     ]
    }
   ],
   "source": [
    "df.info()"
   ]
  },
  {
   "cell_type": "code",
   "execution_count": 145,
   "id": "c7571000",
   "metadata": {},
   "outputs": [
    {
     "data": {
      "text/html": [
       "<div>\n",
       "<style scoped>\n",
       "    .dataframe tbody tr th:only-of-type {\n",
       "        vertical-align: middle;\n",
       "    }\n",
       "\n",
       "    .dataframe tbody tr th {\n",
       "        vertical-align: top;\n",
       "    }\n",
       "\n",
       "    .dataframe thead th {\n",
       "        text-align: right;\n",
       "    }\n",
       "</style>\n",
       "<table border=\"1\" class=\"dataframe\">\n",
       "  <thead>\n",
       "    <tr style=\"text-align: right;\">\n",
       "      <th></th>\n",
       "      <th>raceName</th>\n",
       "      <th>driverName</th>\n",
       "      <th>constructorName</th>\n",
       "      <th>grid</th>\n",
       "      <th>positionOrder</th>\n",
       "      <th>year</th>\n",
       "      <th>round</th>\n",
       "      <th>podium</th>\n",
       "    </tr>\n",
       "  </thead>\n",
       "  <tbody>\n",
       "    <tr>\n",
       "      <th>0</th>\n",
       "      <td>Australian Grand Prix</td>\n",
       "      <td>Lewis Hamilton</td>\n",
       "      <td>McLaren</td>\n",
       "      <td>1</td>\n",
       "      <td>1</td>\n",
       "      <td>2008</td>\n",
       "      <td>1</td>\n",
       "      <td>1</td>\n",
       "    </tr>\n",
       "    <tr>\n",
       "      <th>1</th>\n",
       "      <td>Australian Grand Prix</td>\n",
       "      <td>Nick Heidfeld</td>\n",
       "      <td>BMW Sauber</td>\n",
       "      <td>5</td>\n",
       "      <td>2</td>\n",
       "      <td>2008</td>\n",
       "      <td>1</td>\n",
       "      <td>1</td>\n",
       "    </tr>\n",
       "    <tr>\n",
       "      <th>2</th>\n",
       "      <td>Australian Grand Prix</td>\n",
       "      <td>Nico Rosberg</td>\n",
       "      <td>Williams</td>\n",
       "      <td>7</td>\n",
       "      <td>3</td>\n",
       "      <td>2008</td>\n",
       "      <td>1</td>\n",
       "      <td>1</td>\n",
       "    </tr>\n",
       "    <tr>\n",
       "      <th>3</th>\n",
       "      <td>Australian Grand Prix</td>\n",
       "      <td>Fernando Alonso</td>\n",
       "      <td>Renault</td>\n",
       "      <td>11</td>\n",
       "      <td>4</td>\n",
       "      <td>2008</td>\n",
       "      <td>1</td>\n",
       "      <td>0</td>\n",
       "    </tr>\n",
       "    <tr>\n",
       "      <th>4</th>\n",
       "      <td>Australian Grand Prix</td>\n",
       "      <td>Heikki Kovalainen</td>\n",
       "      <td>McLaren</td>\n",
       "      <td>3</td>\n",
       "      <td>5</td>\n",
       "      <td>2008</td>\n",
       "      <td>1</td>\n",
       "      <td>0</td>\n",
       "    </tr>\n",
       "    <tr>\n",
       "      <th>5</th>\n",
       "      <td>Australian Grand Prix</td>\n",
       "      <td>Kazuki Nakajima</td>\n",
       "      <td>Williams</td>\n",
       "      <td>13</td>\n",
       "      <td>6</td>\n",
       "      <td>2008</td>\n",
       "      <td>1</td>\n",
       "      <td>0</td>\n",
       "    </tr>\n",
       "    <tr>\n",
       "      <th>6</th>\n",
       "      <td>Australian Grand Prix</td>\n",
       "      <td>Sébastien Bourdais</td>\n",
       "      <td>Toro Rosso</td>\n",
       "      <td>17</td>\n",
       "      <td>7</td>\n",
       "      <td>2008</td>\n",
       "      <td>1</td>\n",
       "      <td>0</td>\n",
       "    </tr>\n",
       "    <tr>\n",
       "      <th>7</th>\n",
       "      <td>Australian Grand Prix</td>\n",
       "      <td>Kimi Räikkönen</td>\n",
       "      <td>Ferrari</td>\n",
       "      <td>15</td>\n",
       "      <td>8</td>\n",
       "      <td>2008</td>\n",
       "      <td>1</td>\n",
       "      <td>0</td>\n",
       "    </tr>\n",
       "    <tr>\n",
       "      <th>8</th>\n",
       "      <td>Australian Grand Prix</td>\n",
       "      <td>Robert Kubica</td>\n",
       "      <td>BMW Sauber</td>\n",
       "      <td>2</td>\n",
       "      <td>9</td>\n",
       "      <td>2008</td>\n",
       "      <td>1</td>\n",
       "      <td>0</td>\n",
       "    </tr>\n",
       "    <tr>\n",
       "      <th>9</th>\n",
       "      <td>Australian Grand Prix</td>\n",
       "      <td>Timo Glock</td>\n",
       "      <td>Toyota</td>\n",
       "      <td>18</td>\n",
       "      <td>10</td>\n",
       "      <td>2008</td>\n",
       "      <td>1</td>\n",
       "      <td>0</td>\n",
       "    </tr>\n",
       "  </tbody>\n",
       "</table>\n",
       "</div>"
      ],
      "text/plain": [
       "                raceName          driverName constructorName  grid  \\\n",
       "0  Australian Grand Prix      Lewis Hamilton         McLaren     1   \n",
       "1  Australian Grand Prix       Nick Heidfeld      BMW Sauber     5   \n",
       "2  Australian Grand Prix        Nico Rosberg        Williams     7   \n",
       "3  Australian Grand Prix     Fernando Alonso         Renault    11   \n",
       "4  Australian Grand Prix   Heikki Kovalainen         McLaren     3   \n",
       "5  Australian Grand Prix     Kazuki Nakajima        Williams    13   \n",
       "6  Australian Grand Prix  Sébastien Bourdais      Toro Rosso    17   \n",
       "7  Australian Grand Prix      Kimi Räikkönen         Ferrari    15   \n",
       "8  Australian Grand Prix       Robert Kubica      BMW Sauber     2   \n",
       "9  Australian Grand Prix          Timo Glock          Toyota    18   \n",
       "\n",
       "   positionOrder  year  round  podium  \n",
       "0              1  2008      1       1  \n",
       "1              2  2008      1       1  \n",
       "2              3  2008      1       1  \n",
       "3              4  2008      1       0  \n",
       "4              5  2008      1       0  \n",
       "5              6  2008      1       0  \n",
       "6              7  2008      1       0  \n",
       "7              8  2008      1       0  \n",
       "8              9  2008      1       0  \n",
       "9             10  2008      1       0  "
      ]
     },
     "execution_count": 145,
     "metadata": {},
     "output_type": "execute_result"
    }
   ],
   "source": [
    "df.head(10)"
   ]
  },
  {
   "cell_type": "markdown",
   "id": "beb0da69",
   "metadata": {},
   "source": [
    "### **1.3 Splitting 80/20**\n",
    "\n",
    "Now that the data is easier to read for us (Luke and Tiffany), we can take this data and divide it into training and testing data using an 80% training and 20% testing split."
   ]
  },
  {
   "cell_type": "code",
   "execution_count": 146,
   "id": "c03edc5b",
   "metadata": {},
   "outputs": [
    {
     "name": "stdout",
     "output_type": "stream",
     "text": [
      "Training set shape: (21407, 1126)\n",
      "Test set shape: (5352, 1126)\n",
      "Data types - X_train: float32 y_train: int32\n"
     ]
    }
   ],
   "source": [
    "# Load the cleaned dataset\n",
    "df = pd.read_csv(path)\n",
    "\n",
    "# Features and target variable\n",
    "X = df.drop(columns=[\"podium\", \"positionOrder\"])\n",
    "y = df[\"podium\"]\n",
    "\n",
    "# For now, we'll encode categorical variables using one-hot encoding\n",
    "X = pd.get_dummies(X, columns=[\"raceName\", \"driverName\", \"constructorName\"], drop_first=True)\n",
    "\n",
    "# Train-test split with stratification (80% train, 20% split)\n",
    "X_train, X_test, y_train, y_test = train_test_split(X, y, test_size=0.2, random_state=42, stratify=df[\"podium\"]) # stratify to maintain class distribution \n",
    "\n",
    "# Convert to numpy arrays with proper data types\n",
    "X_train = X_train.astype(np.float32).values\n",
    "X_test = X_test.astype(np.float32).values\n",
    "y_train = y_train.astype(np.int32).values\n",
    "y_test = y_test.astype(np.int32).values\n",
    "\n",
    "print(\"Training set shape:\", X_train.shape)\n",
    "print(\"Test set shape:\", X_test.shape)\n",
    "print(\"Data types - X_train:\", X_train.dtype, \"y_train:\", y_train.dtype)"
   ]
  },
  {
   "cell_type": "code",
   "execution_count": null,
   "id": "089b5ddb",
   "metadata": {},
   "outputs": [],
   "source": [
    "print(X)"
   ]
  },
  {
   "cell_type": "markdown",
   "id": "61578c12",
   "metadata": {},
   "source": [
    "### **1.3.1 Why the 80/20 Split is Appropriate**\n",
    "\n",
    "We argue for using an 80/20 split for this dataset.\n",
    "\n",
    "The Formula 1 results dataset contains data from many seasons and hundreds of races dating back from 1950s, which means the sample size is large enough to allocate 20% for testing without sacrificing too much training data. Using 80% of the data for training allows for the logisitc regression model to learn from a wide range of drivers, constructors, and circuits, while 20 provides a sufficiently large and diverse set for evaluating model performance on unseen races.\n",
    "\n",
    "Additionally, the dataset exhibits a moderate class imbalance, of which only 15% of the entires are podium finishes (top 3). By using stratified sampling, we ensure that both the training and testing sets preserve this natural imbalance. This makes our evaluation metrics more reliable and representative of real-world performance."
   ]
  },
  {
   "cell_type": "markdown",
   "id": "e60dd5d6",
   "metadata": {},
   "source": [
    "### **1.4 Modeling**\n"
   ]
  },
  {
   "cell_type": "markdown",
   "id": "4558b1d1",
   "metadata": {},
   "source": [
    "Create a custom, one-versus-all logistic regression classifier using numpy and scipy to optimize. Use programming conventions identical to scikit-learn classes. You can start with the template developed by the instructor in the course, but will need to make substantial changes. You should add the following functionality to the logistic regression classifier:\n",
    "\n",
    "- Ability to choose one of three optimization techniques when class is instantiated: either (1) {steepest ascent}, (2) {stochastic gradient ascent or line search}, and (3) {Newton's method/Quasi Newton methods}. It is recommended to call this input to the model \"solver\" for the class, to mirror the convention of scikit-learn. The input should be a string, as is used in scikit. \n",
    "- Add support for additional regularization penalties. that is, update the gradient calculation to include a customizable regularization term (either using {no regularization}, {L1 regularization}, {L2 regularization}, or {both L1 and L2 regularization}). The choice of regularization should be set during the instantiation of the class. Associate a cost with the regularization term, \"C\", that can be adjusted when the class is instantiated.  "
   ]
  },
  {
   "cell_type": "code",
   "execution_count": 147,
   "id": "94a0d808",
   "metadata": {},
   "outputs": [],
   "source": [
    "import numpy as np\n",
    "class BinaryLogisticRegressionBase:\n",
    "    # private:\n",
    "    def __init__(self, eta, iterations=20):\n",
    "        self.eta = eta\n",
    "        self.iters = iterations\n",
    "        # internally we will store the weights as self.w_ to keep with sklearn conventions\n",
    "    \n",
    "    def __str__(self):\n",
    "        return 'Base Binary Logistic Regression Object, Not Trainable'\n",
    "    \n",
    "    # convenience, private and static:\n",
    "    @staticmethod\n",
    "    def _sigmoid(theta):\n",
    "        return 1/(1+np.exp(-theta)) \n",
    "    \n",
    "    @staticmethod\n",
    "    def _add_intercept(X):\n",
    "        return np.hstack((np.ones((X.shape[0],1)),X)) # add bias term\n",
    "    \n",
    "    # public:\n",
    "    def predict_proba(self, X, add_intercept=True):\n",
    "        # add bias term if requested\n",
    "        Xb = self._add_intercept(X) if add_intercept else X\n",
    "        return self._sigmoid(Xb @ self.w_) # return the probability y=1\n",
    "    \n",
    "    def predict(self,X):\n",
    "        return (self.predict_proba(X)>0.5) #return the actual prediction\n"
   ]
  },
  {
   "cell_type": "code",
   "execution_count": 148,
   "id": "54854a6c",
   "metadata": {},
   "outputs": [],
   "source": [
    "class BinaryLogisticRegression(BinaryLogisticRegressionBase):\n",
    "    def __init__(self, eta=0.01, iterations=20, C=0.0):\n",
    "        super().__init__(eta, iterations)\n",
    "        self.C = C\n",
    "    \n",
    "    def fit(self, X, y):\n",
    "        Xb = self._add_intercept(X) # add bias term\n",
    "        num_samples, num_features = Xb.shape\n",
    "        \n",
    "        self.w_ = np.zeros((num_features,1)) # init weight vector to zeros\n",
    "        \n",
    "        # for as many as the max iterations\n",
    "        for _ in range(self.iters):\n",
    "            gradient = self._get_gradient(Xb,y)\n",
    "            self.w_ += self.eta * gradient # gradient ascent\n",
    "    \n",
    "    def _get_gradient(self,X,y):\n",
    "        # basic gradient - to be overridden by subclasses\n",
    "        ydiff = y-self.predict_proba(X,add_intercept=False).ravel()\n",
    "        gradient = np.mean(X * ydiff[:,np.newaxis], axis=0)\n",
    "        return gradient.reshape(self.w_.shape)"
   ]
  },
  {
   "cell_type": "code",
   "execution_count": 149,
   "id": "c94c5729",
   "metadata": {},
   "outputs": [],
   "source": [
    "# now lets do some vectorized coding\n",
    "from scipy.special import expit\n",
    "\n",
    "class VectorBinaryLogisticRegression(BinaryLogisticRegression):\n",
    "    # inherit from our previous class to get same functionality\n",
    "    @staticmethod\n",
    "    def _sigmoid(theta):\n",
    "        return expit(theta) #1/(1+np.exp(-theta))\n",
    "    \n",
    "    def _get_gradient(self,X,y):\n",
    "        ydiff = y-self.predict_proba(X,add_intercept=False).ravel() # get y difference\n",
    "        gradient = np.mean(X * ydiff[:,np.newaxis], axis=0) # make ydiff a column vector and multiply through\n",
    "        \n",
    "        return gradient.reshape(self.w_.shape)"
   ]
  },
  {
   "cell_type": "markdown",
   "id": "34e39c5c",
   "metadata": {},
   "source": [
    "#### **L1 Norm**"
   ]
  },
  {
   "cell_type": "code",
   "execution_count": 150,
   "id": "03501caf",
   "metadata": {},
   "outputs": [],
   "source": [
    "class L1BinaryLogisticRegression(VectorBinaryLogisticRegression):\n",
    "    # extend init functions\n",
    "    def __init__(self, eta=0.01, iterations=20, C=0.0, **kwds):        \n",
    "        # need to add to the original initializer \n",
    "        self.C = C\n",
    "        # but keep other keywords\n",
    "        super().__init__(eta=eta, iterations=iterations, C=C, **kwds) # call parent initializer\n",
    "        \n",
    "        \n",
    "    # extend previous class to change functionality\n",
    "    def _get_gradient(self,X,y):\n",
    "        # call get gradient from previous class\n",
    "        gradient = super()._get_gradient(X,y)\n",
    "        \n",
    "        # add in regularization. np.sign does an element-wise comparision for >, < and = 0\n",
    "        gradient[1:] -= self.C * np.sign(self.w_[1:])\n",
    "\n",
    "        return gradient\n",
    "        "
   ]
  },
  {
   "cell_type": "markdown",
   "id": "57b36b07",
   "metadata": {},
   "source": [
    "#### **L2 Norm**"
   ]
  },
  {
   "cell_type": "code",
   "execution_count": 151,
   "id": "84699461",
   "metadata": {},
   "outputs": [],
   "source": [
    "class L2BinaryLogisticRegression(VectorBinaryLogisticRegression):\n",
    "    # extend init functions\n",
    "    def __init__(self, eta=0.01, iterations=20, C=0.0, **kwds):        \n",
    "        # need to add to the original initializer \n",
    "        self.C = C\n",
    "        # but keep other keywords\n",
    "        super().__init__(eta=eta, iterations=iterations, C=C, **kwds) # call parent initializer\n",
    "        \n",
    "        \n",
    "    # extend previous class to change functionality\n",
    "    def _get_gradient(self,X,y):\n",
    "        # call get gradient from previous class\n",
    "        gradient = super()._get_gradient(X,y)\n",
    "        \n",
    "        # add in regularization\n",
    "        gradient[1:] += -2 * self.C * self.w_[1:] \n",
    "        return gradient\n",
    "        "
   ]
  },
  {
   "cell_type": "markdown",
   "id": "1f27120b",
   "metadata": {},
   "source": [
    "#### **L12 Norm (elasticnet)**"
   ]
  },
  {
   "cell_type": "code",
   "execution_count": 152,
   "id": "13141eea",
   "metadata": {},
   "outputs": [],
   "source": [
    "class L12BinaryLogisticRegression(VectorBinaryLogisticRegression):\n",
    "    # extend init functions\n",
    "    def __init__(self, eta=0.01, iterations=20, C=0.0, **kwds):        \n",
    "        # need to add to the original initializer \n",
    "        self.C = C\n",
    "        # but keep other keywords\n",
    "        super().__init__(eta=eta, iterations=iterations, C=C, **kwds) # call parent initializer\n",
    "        \n",
    "        \n",
    "    # extend previous class to change functionality\n",
    "    def _get_gradient(self,X,y):\n",
    "        # call get gradient from previous class\n",
    "        gradient = super()._get_gradient(X,y)\n",
    "        \n",
    "        # add in regularization (to all except bias term)\n",
    "        # L1 part\n",
    "        gradient[1:] -= self.C * np.sign(self.w_[1:])\n",
    "        # L2 part  \n",
    "        gradient[1:] += -2 * self.C * self.w_[1:]\n",
    "\n",
    "        return gradient\n",
    "        "
   ]
  },
  {
   "cell_type": "markdown",
   "id": "4356784a",
   "metadata": {},
   "source": [
    "#### **Steepest Ascent (sa)**"
   ]
  },
  {
   "cell_type": "code",
   "execution_count": 153,
   "id": "9c4a899c",
   "metadata": {},
   "outputs": [],
   "source": [
    "class SteepestAscentLogisticRegression(BinaryLogisticRegression):\n",
    "    \n",
    "    def __init__(self, eta=0.01, iterations=20, C=0.0, **kwds):\n",
    "        super().__init__(eta, iterations, C)\n",
    "\n",
    "    #nothing special, just regular gradient descent\n",
    "        "
   ]
  },
  {
   "cell_type": "markdown",
   "id": "84d6c633",
   "metadata": {},
   "source": [
    "#### **Line Search (ls)**"
   ]
  },
  {
   "cell_type": "code",
   "execution_count": 154,
   "id": "e17bf83a",
   "metadata": {},
   "outputs": [],
   "source": [
    "# and we can update this to use a line search along the gradient like this:\n",
    "from scipy.optimize import minimize_scalar\n",
    "import copy\n",
    "from numpy import ma # (masked array) this has most numpy functions that work with NaN data.\n",
    "class LineSearchLogisticRegression(BinaryLogisticRegression):\n",
    "    \n",
    "    # define custom line search for problem\n",
    "    def __init__(self, line_iters=0.0, **kwds):        \n",
    "        self.line_iters = line_iters\n",
    "        # but keep other keywords\n",
    "        super().__init__(**kwds) # call parent initializer\n",
    "    \n",
    "    # this defines the function with the first input to be optimized\n",
    "    # therefore eta will be optimized, with all inputs constant\n",
    "    @staticmethod\n",
    "    def objective_function(eta,X,y,w,grad,C):\n",
    "        wnew = w - grad*eta\n",
    "        g = expit(X @ wnew)\n",
    "        # the line search is looking for minimization, so take the negative of l(w)\n",
    "        return -np.sum(ma.log(g[y==1]))-ma.sum(ma.log(1-g[y==0])) + C*sum(wnew[1:]**2)\n",
    "    \n",
    "        \n",
    "    def fit(self, X, y):\n",
    "        Xb = self._add_intercept(X) # add bias term\n",
    "        \n",
    "        num_samples, num_features = Xb.shape\n",
    "        \n",
    "        self.w_ = np.zeros((num_features,1)) # init weight vector to zeros\n",
    "        \n",
    "        # for as many as the max iterations\n",
    "        for _ in range(self.iters):\n",
    "            gradient = -self._get_gradient(Xb,y)\n",
    "            # minimization is in opposite direction\n",
    "            \n",
    "            # do line search in gradient direction, using scipy function\n",
    "            opts = {'maxiter':self.line_iters} # unclear exactly what this should be\n",
    "            res = minimize_scalar(self.objective_function, # objective function to optimize\n",
    "                                  bounds=(0,self.eta*10), #bounds to optimize\n",
    "                                  args=(Xb,y,self.w_,gradient,self.C), # additional argument for objective function\n",
    "                                  method='bounded', # bounded optimization for speed\n",
    "                                  options=opts) # set max iterations\n",
    "            \n",
    "            eta = res.x # get optimal learning rate\n",
    "            self.w_ -= gradient*eta # set new function values\n",
    "            # subtract to minimize\n",
    "                 "
   ]
  },
  {
   "cell_type": "markdown",
   "id": "08d76b80",
   "metadata": {},
   "source": [
    "#### **Quasi-Newton (bfgs)**"
   ]
  },
  {
   "cell_type": "code",
   "execution_count": 155,
   "id": "bf18cfc1",
   "metadata": {},
   "outputs": [],
   "source": [
    "# for this, we won't perform our own BFGS implementation \n",
    "# (it takes a fair amount of code and understanding, which we haven't setup yet)\n",
    "# luckily for us, scipy has its own BFGS implementation:\n",
    "from scipy.optimize import fmin_bfgs # maybe the most common bfgs algorithm in the world\n",
    "from numpy import ma\n",
    "class BFGSBinaryLogisticRegression(BinaryLogisticRegression):\n",
    "    \n",
    "    @staticmethod\n",
    "    def objective_function(w,X,y,C):\n",
    "        g = expit(X @ w)\n",
    "        # invert this because scipy minimizes, but we derived all formulas for maximzing\n",
    "        return -ma.sum(ma.log(g[y==1]))-ma.sum(ma.log(1-g[y==0])) + C*sum(w**2) \n",
    "        #-np.sum(y*np.log(g)+(1-y)*np.log(1-g))\n",
    "\n",
    "    @staticmethod\n",
    "    def objective_gradient(w,X,y,C):\n",
    "        g = expit(X @ w)\n",
    "        ydiff = y-g # get y difference\n",
    "        gradient = np.mean(X * ydiff[:,np.newaxis], axis=0)\n",
    "        gradient = gradient.reshape(w.shape)\n",
    "        gradient[1:] += -2 * w[1:] * C\n",
    "        return -gradient\n",
    "    \n",
    "    # just overwrite fit function\n",
    "    def fit(self, X, y):\n",
    "        Xb = self._add_intercept(X) # add bias term\n",
    "        num_samples, num_features = Xb.shape\n",
    "        \n",
    "        self.w_ = fmin_bfgs(self.objective_function, # what to optimize\n",
    "                            np.zeros((num_features,1)), # starting point\n",
    "                            fprime=self.objective_gradient, # gradient function\n",
    "                            args=(Xb,y,self.C), # extra args for gradient and objective function\n",
    "                            gtol=1e-03, # stopping criteria for gradient, |v_k|\n",
    "                            maxiter=self.iters, # stopping criteria iterations\n",
    "                            disp=False)\n",
    "        \n",
    "        self.w_ = self.w_.reshape((num_features,1))"
   ]
  },
  {
   "cell_type": "code",
   "execution_count": 156,
   "id": "f8cd3a87",
   "metadata": {},
   "outputs": [],
   "source": [
    "class LogisticRegression:\n",
    "    def __init__(self, eta=0.01, iterations=20, solver='sa', penalty='none', C=1.0):\n",
    "        self.eta = eta\n",
    "        self.iters = iterations\n",
    "        self.solver = solver\n",
    "        self.penalty = penalty\n",
    "        self.C = C\n",
    "        # internally we will store the weights as self.w_ to keep with sklearn conventions\n",
    "    \n",
    "    def __str__(self):\n",
    "        if(hasattr(self,'w_')):\n",
    "            return 'MultiClass Logistic Regression Object with coefficients:\\n'+ str(self.w_) # is we have trained the object\n",
    "        else:\n",
    "            return 'Untrained MultiClass Logistic Regression Object'\n",
    "\n",
    "    @property\n",
    "    def coef_(self):\n",
    "        if(hasattr(self,'w_')):\n",
    "            return self.w_[:,1:]\n",
    "        else:\n",
    "            return None\n",
    "\n",
    "    @property\n",
    "    def intercept_(self):\n",
    "        if(hasattr(self,'w_')):\n",
    "            return self.w_[:,0]\n",
    "        else:\n",
    "            return None\n",
    "    \n",
    "    def _get_binary_classifier(self):\n",
    "        # Base classifier selection based on penalty\n",
    "        if self.penalty == 'l1':\n",
    "            base_class = L1BinaryLogisticRegression\n",
    "        elif self.penalty == 'l2':\n",
    "            base_class = L2BinaryLogisticRegression\n",
    "        elif self.penalty == 'elasticnet':\n",
    "            base_class = L12BinaryLogisticRegression\n",
    "        else:  # 'none'\n",
    "            base_class = VectorBinaryLogisticRegression\n",
    "        \n",
    "        # each 'regularized' class will inherit appropriate gradients (regularization) and fit methods (solver)\n",
    "        if self.solver == 'sa':\n",
    "            class RegularizedSteepestAscent(SteepestAscentLogisticRegression, base_class):\n",
    "                def __init__(self, **kwargs):\n",
    "                    super().__init__(**kwargs)\n",
    "            return RegularizedSteepestAscent(eta=self.eta, iterations=self.iters, C=self.C)\n",
    "        elif self.solver == 'linesearch' or self.solver == 'ls':\n",
    "            class RegularizedLineSearch(LineSearchLogisticRegression, base_class):\n",
    "                def __init__(self, **kwargs):\n",
    "                    super().__init__(**kwargs)\n",
    "            return RegularizedLineSearch(eta=self.eta, iterations=self.iters, line_iters=8, C=self.C)\n",
    "        elif self.solver == 'bfgs':\n",
    "            class RegularizedBFGS(BFGSBinaryLogisticRegression, base_class):\n",
    "                def __init__(self, **kwargs):\n",
    "                    super().__init__(**kwargs)\n",
    "            return RegularizedBFGS(eta=self.eta, iterations=self.iters, C=self.C)\n",
    "        else:\n",
    "            print(\"Unknown solver:\", self.solver)\n",
    "    \n",
    "    def fit(self, X, y):\n",
    "        num_samples, num_features = X.shape\n",
    "        self.unique_ = np.unique(y) # get each unique class value\n",
    "        num_unique_classes = len(self.unique_)\n",
    "        self.classifiers_ = [] # will fill this array with binary classifiers\n",
    "        \n",
    "        for i, yval in enumerate(self.unique_): # for each unique value\n",
    "            y_binary = (y == yval) # create a binary problem\n",
    "            # Get the appropriate binary classifier for this solver/penalty combination\n",
    "            blr = self._get_binary_classifier()\n",
    "            blr.fit(X, y_binary)\n",
    "            # add the trained classifier to the list\n",
    "            self.classifiers_.append(blr)\n",
    "            \n",
    "        # save all the weights into one matrix, separate column for each class\n",
    "        self.w_ = np.hstack([x.w_ for x in self.classifiers_]).T\n",
    "\n",
    "    def predict_proba(self,X):\n",
    "        probs = []\n",
    "        for blr in self.classifiers_:\n",
    "            probs.append(blr.predict_proba(X)) # get probability for each classifier\n",
    "        \n",
    "        return np.hstack(probs) # make into single matrix\n",
    "    \n",
    "    def predict(self,X):\n",
    "        return self.unique_[np.argmax(self.predict_proba(X),axis=1)] # take argmax along row\n",
    "    \n",
    "\n"
   ]
  },
  {
   "cell_type": "markdown",
   "id": "5bb40ccc",
   "metadata": {},
   "source": [
    "Train your classifier to achieve as good as possible generalization performance. That is, adjust the optimization technique, the type of regularization, and the value of the regularization cost \"C\" to achieve the best performance on your test set. Visualize the performance of the classifier versus the parameters you investigated. \n"
   ]
  },
  {
   "cell_type": "code",
   "execution_count": 157,
   "id": "ea32edd7",
   "metadata": {},
   "outputs": [
    {
     "name": "stdout",
     "output_type": "stream",
     "text": [
      "MultiClass Logistic Regression Object with coefficients:\n",
      "[[-3.93562853e-04  1.71172981e-01 -8.13016770e-01 ... -7.52090438e-04\n",
      "  -1.40141075e-05  1.19119914e-04]\n",
      " [ 3.93562853e-04 -1.71172981e-01  8.13016770e-01 ...  7.52090438e-04\n",
      "   1.40141075e-05 -1.19119914e-04]]\n",
      "[1 1 1 ... 1 1 1]\n"
     ]
    },
    {
     "name": "stdout",
     "output_type": "stream",
     "text": [
      "MultiClass Logistic Regression Object with coefficients:\n",
      "[[-3.93562853e-04  1.71172981e-01 -8.13016770e-01 ... -7.52090438e-04\n",
      "  -1.40141075e-05  1.19119914e-04]\n",
      " [ 3.93562853e-04 -1.71172981e-01  8.13016770e-01 ...  7.52090438e-04\n",
      "   1.40141075e-05 -1.19119914e-04]]\n",
      "[1 1 1 ... 1 1 1]\n"
     ]
    },
    {
     "data": {
      "image/png": "[encoded data removed]",
      "text/plain": [
       "<Figure size 1200x600 with 1 Axes>"
      ]
     },
     "metadata": {},
     "output_type": "display_data"
    }
   ],
   "source": [
    "from sklearn.metrics import accuracy_score\n",
    "\n",
    "solvers = ['sa','ls','bfgs']\n",
    "penalties = ['l1','l2','elasticnet','none']\n",
    "\n",
    "combined_sp = []\n",
    "accuracies = []\n",
    "\n",
    "# defualt values\n",
    "eta = 0.01\n",
    "iterations = 20\n",
    "C = 0.1\n",
    "\n",
    "lr = LogisticRegression(eta,iterations,solver='sa',penalty='none',C=C)\n",
    "lr.fit(X_train,y_train)\n",
    "print(lr)\n",
    "yhat = lr.predict(X_test)\n",
    "print(yhat)\n",
    "\n",
    "# for s in solvers:\n",
    "#     for p in penalties:\n",
    "#         combination = s + \" + \" + p\n",
    "#         combined_sp.append(combination)\n",
    "\n",
    "#         lr = LogisticRegression(eta,iterations,s,p,C)\n",
    "#         lr.fit(X_train,y_train)\n",
    "#         print(lr)\n",
    "\n",
    "#         yhat = lr.predict(X_test)\n",
    "#         acc = accuracy_score(y_test,yhat)\n",
    "#         accuracies.append(acc)\n",
    "\n",
    "print(\"0 (no podium):\", np.sum(yhat == 0))\n",
    "print(\"1 (podium):\", np.sum(yhat == 1))\n",
    "print(\"Total predictions:\", len(yhat))\n",
    "\n",
    "plt.figure(figsize=(12, 6))\n",
    "plt.bar(range(len(combined_sp)), accuracies)\n",
    "plt.xlabel('Solver + Penalty Combination')\n",
    "plt.ylabel('Accuracy')\n",
    "plt.title('Accuracy Comparison Across Different Solver and Penalty Combinations')\n",
    "plt.xticks(range(len(combined_sp)), combined_sp, rotation=45, ha='right')\n",
    "plt.tight_layout()\n",
    "plt.show()\n",
    "\n",
    "    \n"
   ]
  },
  {
   "cell_type": "markdown",
   "id": "2da0d645",
   "metadata": {},
   "source": [
    "To select hyperparameters, I will determine the best ones (e.g. eta, C, and iterations) for Steepest Ascent with Elasticnet penalty. These parameters should generalize well for other methods and penalties."
   ]
  },
  {
   "cell_type": "code",
   "execution_count": 159,
   "id": "0dbbf852",
   "metadata": {},
   "outputs": [
    {
     "data": {
      "image/png": "[encoded data removed]",
      "text/plain": [
       "<Figure size 640x480 with 1 Axes>"
      ]
     },
     "metadata": {},
     "output_type": "display_data"
    },
    {
     "data": {
      "image/png": "[encoded data removed]",
      "text/plain": [
       "<Figure size 640x480 with 1 Axes>"
      ]
     },
     "metadata": {},
     "output_type": "display_data"
    },
    {
     "data": {
      "image/png": "[encoded data removed]",
      "text/plain": [
       "<Figure size 640x480 with 1 Axes>"
      ]
     },
     "metadata": {},
     "output_type": "display_data"
    },
    {
     "data": {
      "image/png": "[encoded data removed]",
      "text/plain": [
       "<Figure size 640x480 with 1 Axes>"
      ]
     },
     "metadata": {},
     "output_type": "display_data"
    }
   ],
   "source": [
    "eta = np.arange(0.1,1.1,0.1)\n",
    "iterations = np.arange(0,110,10)\n",
    "C = np.arange(0.1,2,0.1)\n",
    "accuracy_C = []\n",
    "accuracy_eta = []\n",
    "accuracy_iterations = []\n",
    "\n",
    "for c in C:\n",
    "\n",
    "\n",
    "    lr = LogisticRegression(solver=\"sa\",penalty=\"elasticnet\",C=c) #use default eta and iter\n",
    "    lr.fit(X_train,y_train)\n",
    "\n",
    "    yhat = lr.predict(X_test)\n",
    "    acc = accuracy_score(y_test,yhat)\n",
    "    accuracy_C.append(acc)\n",
    "\n",
    "plt.figure()\n",
    "plt.plot(C, accuracy_C, 'k-')\n",
    "plt.show()\n",
    "\n",
    "for e in eta:\n",
    "\n",
    "    lr = LogisticRegression(eta=e,solver=\"sa\",penalty=\"elasticnet\") #use default C and iter\n",
    "    lr.fit(X_train,y_train)\n",
    "\n",
    "    yhat = lr.predict(X_test)\n",
    "    acc = accuracy_score(y_test,yhat)\n",
    "    accuracy_eta.append(acc)\n",
    "\n",
    "plt.figure()\n",
    "plt.plot(eta, accuracy_eta, 'k-')\n",
    "plt.show()\n",
    "\n",
    "for i in iterations:\n",
    "\n",
    "    lr = LogisticRegression(iterations=i,solver=\"sa\",penalty=\"elasticnet\") #use default eta and C\n",
    "    lr.fit(X_train,y_train)\n",
    "\n",
    "    yhat = lr.predict(X_test)\n",
    "    acc = accuracy_score(y_test,yhat)\n",
    "    accuracy_iterations.append(acc)\n",
    "\n",
    "plt.figure()\n",
    "plt.plot(iterations, accuracy_iterations, 'k-')\n",
    "plt.show()\n"
   ]
  },
  {
   "cell_type": "markdown",
   "id": "efa49a05",
   "metadata": {},
   "source": [
    "Based on these results, a good eta value is between 0-0.3, the iteration number doesn't really matter, and a good C is between 1-5. Thus, I will select an eta = 0.25, iteration = 50, and C = 1. See below how this affects everything"
   ]
  },
  {
   "cell_type": "code",
   "execution_count": 160,
   "id": "0a6a9e20",
   "metadata": {},
   "outputs": [
    {
     "name": "stdout",
     "output_type": "stream",
     "text": [
      "MultiClass Logistic Regression Object with coefficients:\n",
      "[[ 3.79023217e-02  1.13943803e+01  7.36413206e+01 ... -4.31400944e-02\n",
      "  -6.77348531e-04  7.74279441e-03]\n",
      " [-3.79023217e-02 -1.13943803e+01 -7.36413206e+01 ...  4.31400944e-02\n",
      "   6.77348531e-04 -7.74279441e-03]]\n",
      "[0 0 0 ... 0 0 0]\n",
      "0 (no podium): 5352\n",
      "1 (podium): 0\n",
      "Total predictions: 5352\n"
     ]
    },
    {
     "data": {
      "image/png": "[encoded data removed]",
      "text/plain": [
       "<Figure size 1200x600 with 1 Axes>"
      ]
     },
     "metadata": {},
     "output_type": "display_data"
    }
   ],
   "source": [
    "solvers = ['sa','ls','bfgs']\n",
    "penalties = ['l1','l2','elasticnet','none']\n",
    "\n",
    "combined_sp = []\n",
    "accuracies = []\n",
    "\n",
    "eta = 0.25\n",
    "iterations = 50\n",
    "C = 1\n",
    "\n",
    "lr = LogisticRegression(eta,iterations,solver='sa',penalty='none',C=C)\n",
    "lr.fit(X_train,y_train)\n",
    "print(lr)\n",
    "yhat = lr.predict(X_test)\n",
    "print(yhat)\n",
    "\n",
    "# for s in solvers:\n",
    "#     for p in penalties:\n",
    "#         combined_sp.append(s + \" + \" + p)\n",
    "#         lr = LogisticRegression(eta,iterations,s,p,C)\n",
    "#         lr.fit(X_train,y_train)\n",
    "\n",
    "#         yhat = lr.predict(X_test)\n",
    "#         acc = accuracy_score(y_test,yhat)\n",
    "#         accuracies.append(acc)\n",
    "\n",
    "print(\"0 (no podium):\", np.sum(yhat == 0))\n",
    "print(\"1 (podium):\", np.sum(yhat == 1))\n",
    "print(\"Total predictions:\", len(yhat))\n",
    "\n",
    "plt.figure(figsize=(12, 6))\n",
    "plt.bar(range(len(combined_sp)), accuracies)\n",
    "plt.xlabel('Solver + Penalty Combination')\n",
    "plt.ylabel('Accuracy')\n",
    "plt.title('Accuracy Comparison Across Different Solver and Penalty Combinations')\n",
    "plt.xticks(range(len(combined_sp)), combined_sp, rotation=45, ha='right')\n",
    "plt.tight_layout()\n",
    "plt.show()\n"
   ]
  },
  {
   "cell_type": "markdown",
   "id": "de80c010",
   "metadata": {},
   "source": [
    "- Answer the following question in your lab report: Is your method of selecting hyper parameters justified? That is, do you think there is any \"data snooping\" involved with this method of tuning hyper parameters?\n",
    "\n",
    "\n",
    "    "
   ]
  },
  {
   "cell_type": "code",
   "execution_count": 78,
   "id": "eac415af",
   "metadata": {},
   "outputs": [
    {
     "name": "stdout",
     "output_type": "stream",
     "text": [
      "Class distribution:\n",
      "Podium finishes: 0.127\n",
      "Non-podium: 0.873\n",
      "Naive baseline accuracy (always predict majority): 0.873\n",
      "\n",
      "Testing simple model:\n",
      "Simple model accuracy: 0.8731\n",
      "Weight norm without regularization: 4.22\n",
      "Simple model accuracy: 0.8731\n",
      "Weight norm without regularization: 4.22\n",
      "Regularized model accuracy: 0.8731\n",
      "Weight norm with L2 regularization: 23.01\n",
      "\n",
      "Accuracy 0.873 is in reasonable range for this problem\n",
      "Regularized model accuracy: 0.8731\n",
      "Weight norm with L2 regularization: 23.01\n",
      "\n",
      "Accuracy 0.873 is in reasonable range for this problem\n"
     ]
    }
   ],
   "source": [
    "# Let's validate the results and check for issues\n",
    "import numpy as np\n",
    "\n",
    "# 1. Check class distribution (baseline)\n",
    "print(\"Class distribution:\")\n",
    "print(f\"Podium finishes: {np.mean(y_test):.3f}\")\n",
    "print(f\"Non-podium: {1-np.mean(y_test):.3f}\")\n",
    "print(f\"Naive baseline accuracy (always predict majority): {max(np.mean(y_test), 1-np.mean(y_test)):.3f}\")\n",
    "\n",
    "# 2. Test a simple model to see if our implementation works\n",
    "print(\"\\nTesting simple model:\")\n",
    "simple_lr = LogisticRegression(eta=0.01, iterations=50, solver='sa', penalty='none', C=0)\n",
    "simple_lr.fit(X_train, y_train)\n",
    "simple_pred = simple_lr.predict(X_test)\n",
    "simple_acc = accuracy_score(y_test, simple_pred)\n",
    "print(f\"Simple model accuracy: {simple_acc:.4f}\")\n",
    "\n",
    "# 3. Check weight magnitudes to see if regularization is working\n",
    "print(f\"Weight norm without regularization: {np.linalg.norm(simple_lr.w_):.2f}\")\n",
    "\n",
    "reg_lr = LogisticRegression(eta=0.01, iterations=50, solver='sa', penalty='l2', C=1.0)\n",
    "reg_lr.fit(X_train, y_train)\n",
    "reg_pred = reg_lr.predict(X_test)\n",
    "reg_acc = accuracy_score(y_test, reg_pred)\n",
    "print(f\"Regularized model accuracy: {reg_acc:.4f}\")\n",
    "print(f\"Weight norm with L2 regularization: {np.linalg.norm(reg_lr.w_):.2f}\")\n",
    "\n",
    "# 4. Check if our results are reasonable\n",
    "expected_accuracy_range = (0.80, 0.95)  # F1 podium prediction should be quite good\n",
    "if simple_acc < expected_accuracy_range[0]:\n",
    "    print(f\"\\nWARNING: Accuracy {simple_acc:.3f} seems low for F1 podium prediction\")\n",
    "    print(\"This could indicate:\")\n",
    "    print(\"- Data preprocessing issues\")\n",
    "    print(\"- Model implementation problems\") \n",
    "    print(\"- Insufficient training iterations\")\n",
    "elif simple_acc > expected_accuracy_range[1]:\n",
    "    print(f\"\\nWARNING: Accuracy {simple_acc:.3f} seems suspiciously high\")\n",
    "    print(\"This could indicate:\")\n",
    "    print(\"- Data leakage\")\n",
    "    print(\"- Overfitting to test set\")\n",
    "else:\n",
    "    print(f\"\\nAccuracy {simple_acc:.3f} is in reasonable range for this problem\")"
   ]
  },
  {
   "cell_type": "code",
   "execution_count": null,
   "id": "9cbc036d",
   "metadata": {},
   "outputs": [],
   "source": [
    "# Fix the hyperparameter ranges to avoid problematic values\n",
    "print(\"Fixing hyperparameter ranges...\")\n",
    "\n",
    "# Fixed ranges (avoiding eta=0 and iterations=0)\n",
    "eta_range = np.arange(0.01, 1.0, 0.1)  # Start from 0.01, not 0\n",
    "iterations_range = np.arange(10, 100, 10)  # Start from 10, not 0  \n",
    "C_range = np.arange(0.1, 5.0, 0.2)  # More reasonable range\n",
    "\n",
    "print(f\"Eta range: {eta_range}\")\n",
    "print(f\"Iterations range: {iterations_range}\")\n",
    "print(f\"C range: {C_range[:5]}...\")  # Show first 5 values\n",
    "\n",
    "# Test with the problematic values to show why they don't work\n",
    "print(\"\\nTesting problematic values:\")\n",
    "\n",
    "try:\n",
    "    # This should work poorly or fail\n",
    "    bad_lr = LogisticRegression(eta=0.0, iterations=1, solver='sa', penalty='none')\n",
    "    bad_lr.fit(X_train[:100], y_train[:100])  # Use small subset for speed\n",
    "    bad_pred = bad_lr.predict(X_test[:100])\n",
    "    bad_acc = accuracy_score(y_test[:100], bad_pred)\n",
    "    print(f\"Model with eta=0, iter=1: accuracy = {bad_acc:.4f}\")\n",
    "except Exception as e:\n",
    "    print(f\"Model with eta=0 failed: {str(e)[:50]}...\")\n",
    "\n",
    "# Compare with reasonable values\n",
    "good_lr = LogisticRegression(eta=0.01, iterations=20, solver='sa', penalty='none')\n",
    "good_lr.fit(X_train[:100], y_train[:100])\n",
    "good_pred = good_lr.predict(X_test[:100])  \n",
    "good_acc = accuracy_score(y_test[:100], good_pred)\n",
    "print(f\"Model with eta=0.01, iter=20: accuracy = {good_acc:.4f}\")"
   ]
  },
  {
   "cell_type": "markdown",
   "id": "85e01db4",
   "metadata": {},
   "source": [
    "Compare the performance of your \"best\" logistic regression model to a logistic regression model from scikit-learn. Visualize the performance differences in terms of training time and classification performance. Discuss the results. Most points for this come from the discussion. \n",
    "\n",
    "- - USE A GRAPH!!!!\n"
   ]
  }
 ],
 "metadata": {
  "kernelspec": {
   "display_name": "Python 3",
   "language": "python",
   "name": "python3"
  },
  "language_info": {
   "codemirror_mode": {
    "name": "ipython",
    "version": 3
   },
   "file_extension": ".py",
   "mimetype": "text/x-python",
   "name": "python",
   "nbconvert_exporter": "python",
   "pygments_lexer": "ipython3",
   "version": "3.12.3"
  }
 },
 "nbformat": 4,
 "nbformat_minor": 5
}
